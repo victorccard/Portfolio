{
  "cells": [
    {
      "cell_type": "markdown",
      "metadata": {
        "id": "view-in-github",
        "colab_type": "text"
      },
      "source": [
        "<a href=\"https://colab.research.google.com/github/victorccard/Portfolio/blob/main/ProjetoDiabetesML.ipynb\" target=\"_parent\"><img src=\"https://colab.research.google.com/assets/colab-badge.svg\" alt=\"Open In Colab\"/></a>"
      ]
    },
    {
      "cell_type": "markdown",
      "source": [
        "#**PROJETO DE CIÊNCIA DE DADOS E MACHINE LEARNING**\n"
      ],
      "metadata": {
        "id": "_tvh00V-peDB"
      },
      "id": "_tvh00V-peDB"
    },
    {
      "cell_type": "markdown",
      "source": [
        "Iremos fazer uma análise de dados usando o modelo CRISP-DM para averiguar porque os índios da Tribo Pima do Arizona tem as maiores taxas de diabetes dentre toda a população do mundo.\n",
        "\n",
        "Para entender melhor sobre o [Modelo CRISP-DM](https://blog.grancursosonline.com.br/processo-de-mineracao-de-dados-com-crisp-dm/)"
      ],
      "metadata": {
        "id": "Sx6RiS7jLowA"
      },
      "id": "Sx6RiS7jLowA"
    },
    {
      "cell_type": "markdown",
      "source": [
        "Usaremos alguns modelos de machine learning para fazermos uma análise preditiva e tentar prevê se uma pessoa da tribo com certas características poderiam chegar a ter diabetes.\n",
        "\n",
        "Os modelos de machine learning que usaremos seram três:\n",
        "- Naive Bayes\n",
        "- Random Forest\n",
        "- Regressão logística\n",
        "\n",
        "O Dataset usado para nossa análise foi obtido no Kaggle e pertence ao The National Institute of Diabetes and Digestive and Kidney Diseases(Instituto Nacional de Diabetes e Doenças Digestivas e Renais) ele pode ser acessado em [Pima Indians Diabetes Database](https://www.kaggle.com/datasets/uciml/pima-indians-diabetes-database?datasetId=228&sortBy=voteCount) . \n",
        "Em particular, todos os pacientes aqui são do sexo feminino com pelo menos 21 anos de idade de herança indígena Pima.\n"
      ],
      "metadata": {
        "id": "jDBugaeVNxoo"
      },
      "id": "jDBugaeVNxoo"
    },
    {
      "cell_type": "markdown",
      "source": [
        "##**1. DEFINIÇÃO DO PROBLEMA**\n",
        "\n",
        "Os índios Pima do Arizona têm a maior taxa de diabetes de qualquer população do mundo. Eles também têm taxas surpreendentes de obesidade e hipertensão.\n",
        "\n",
        "De acordo com dados do Instituto Nacional de Diabetes e Doenças Digestivas e Renais (NIDDK), cerca de 52% dos adultos índios Pima do Arizona têm diabetes, enquanto a taxa de diabetes entre a população geral dos EUA é de cerca de 9%. Além disso, os índios Pima têm taxas surpreendentes de obesidade e hipertensão, o que aumenta ainda mais o risco de desenvolver diabetes. Esses dados mostram claramente que a diabetes é um problema de saúde grave entre os índios Pima e requer intervenções imediatas.\n",
        "\n",
        "As coisas eram muito diferentes para eles antes de 1539. Eles viviam numa dieta rica em feijão, milho, abóbora, peixes selvagens, carne de caça e plantas. Tal como acontece com a maioria das pessoas nativas.\n",
        "\n",
        "<center><img alt=\"Indios Pima\" width=\"30%\" src=\"https://i.pinimg.com/originals/ff/a7/7f/ffa77fca0f01f84f1c042eec693437fc.jpg\"><br>Retrato de um grupo de nativos americanos Pima em uma reserva no Território do Arizona, <br>c. 1870. Por Carlo Gentile. Fonte: Library of Congress.</center>\n",
        "\n",
        "Em 1859, os Pima foram restritos a uma pequena parte de suas terras onde ficava a Reserva dos Pima as margens do Rio Gila. Em 1866, começaram a chegar colonos  à região e a desviar o rio Gila da reserva dos pima para a sua própria agricultura. Em 1869, o rio secou pela primeira vez. 1886 foi o último ano passado em que fluiu alguma água no rio Gila para a reserva Pima. Em 1898, a seca quase eliminou a agricultura como principal forma de apoio econômico para os índios Pima.\n",
        "\n",
        "Os Pima não tinham nenhuma forma de obter água, e nenhuma forma de cultivar e produzir alimentos. Seguiu-se a fome durante 40 anos. Os Pima reduziram as suas extensas florestas para venderem, de forma a poderem adquirir comida e água. Eventualmente, depois de bastantes protestos e manifestações públicas, o governo interveio.\n",
        "\n",
        "O governo auxiliou os Pima com “comida” subsidiada: farinha branca, açúcar, gordura parcialmente hidrogenada, e enlatados. Eles rapidamente se tornaram diabéticos e obesos, e permaneceram assim desde então.\n",
        "\n",
        "Então iremos tentar prevê se uma pessoa poderia chegar a ter diabetes de acordo com alguns dados que serão apresentados a seguir.\n"
      ],
      "metadata": {
        "id": "LROoviPLOXCr"
      },
      "id": "LROoviPLOXCr"
    },
    {
      "cell_type": "markdown",
      "source": [
        "**Objetivo**\n",
        "\n",
        "- Investigar as causas da diabetes entre os índios Pima do Arizona e identificar os fatores de risco mais significativos relacionados à doença.\n",
        "- Desenvolver um modelo de machine learning de alta precisão (maior que 70%) para prever quem dentre os índios Pima poderá desenvolver diabetes, com base nas variáveis ​​disponíveis no conjunto de dados.\n",
        "- Identificar as variáveis ​​que têm maior influência na probabilidade de uma pessoa ter diabetes.\n",
        "- Utilizar os resultados da análise para propor recomendações e intervenções preventivas para ajudar a melhorar a saúde dos índios Pima e prevenir a diabetes.\n",
        "\n",
        "**Importância do estudo**\n",
        "\n",
        "A taxa de diabetes entre os índios Pima do Arizona é alarmantemente alta e tem sido um problema de saúde pública há muito tempo. Este estudo tem como objetivo investigar as causas da diabetes entre os índios Pima e identificar os fatores de risco. Além disso, o estudo pretende desenvolver um modelo preditivo para prever quem dentre os índios Pima poderá desenvolver diabetes, o que permitiria a identificação precoce e intervenções preventivas.\n",
        "\n",
        "Os resultados deste estudo podem fornecer informações valiosas para a comunidade científica e para os profissionais de saúde, permitindo uma melhor compreensão da diabetes entre os índios Pima e ajudando a melhorar a saúde dessa população. Além disso, os resultados deste estudo podem ser aplicados a outras populações indígenas com taxas elevadas de diabetes e ajudar a prevenir e controlar a doença em nível global."
      ],
      "metadata": {
        "id": "_15Te7EhYg1c"
      },
      "id": "_15Te7EhYg1c"
    },
    {
      "cell_type": "markdown",
      "source": [
        "**Dicionário de variáveis**\n",
        "\n",
        "- `Pregnancies` - Número de vezes que ficou grávida.\n",
        "-\t`Glucose` - Concentração de glicose plasmática sangue após 2 horas em um teste oral de tolerância à glicose.\n",
        "-\t`BloodPressure` - Pressão sanguínea diastólica(mm Hg)\n",
        "-\t`SkinThickness` - Espessura da prega cutânea do tríceps (mm).(A espessura da prega cutânea do tríceps varia de pessoa para pessoa e pode ser afetada por fatores como idade, sexo, nível de atividade física e composição corporal)\n",
        "-\t`Insulin` - Insulina sérica de 2 horas (mu U/ml).(A insulina sérica é o nível de insulina presente no sangue. A insulina é um hormônio produzido pelo pâncreas que ajuda a regular o metabolismo dos carboidratos, gorduras e proteínas do corpo. Quando os níveis séricos de insulina são baixos, pode indicar um problema com a produção de insulina pelo pâncreas, como no diabetes tipo 1.)\n",
        "-\t`BMI` - Índice de massa corporal(IMC) (peso em kg/(altura em m)^2)\n",
        "-\t`DPF` - Função de pedigree de diabetes.(A função de pedigree de diabetes é uma técnica utilizada para analisar a transmissão de doenças genéticas em uma família. É especificamente usada para investigar a herança dos casos de diabetes mellitus tipo 1 e tipo 2. A função de pedigree é construída com informações sobre relacionamentos de parentesco, idade de início da doença e estado de saúde dos indivíduos em uma família. A média da função de pedigree de diabetes varia de acordo com a população e difere de estudo para estudo, mas geralmente é menor do que 1)\n",
        "-\t`Age` - Idade(anos)\n",
        "-\t`Outcome` - Variável de classe (0 ou 1) 268 de 768 são 1, os outros são 0"
      ],
      "metadata": {
        "id": "TUdKsEWtk-5K"
      },
      "id": "TUdKsEWtk-5K"
    },
    {
      "cell_type": "markdown",
      "source": [
        "##**2. OBTENÇÃO DOS DADOS**"
      ],
      "metadata": {
        "id": "54cb4pyHZ0Pf"
      },
      "id": "54cb4pyHZ0Pf"
    },
    {
      "cell_type": "code",
      "execution_count": 1,
      "id": "56a338f9",
      "metadata": {
        "ExecuteTime": {
          "end_time": "2022-10-20T03:34:23.641023Z",
          "start_time": "2022-10-20T03:34:17.531247Z"
        },
        "id": "56a338f9"
      },
      "outputs": [],
      "source": [
        "# Importação das bibliotecas\n",
        "import pandas as pd\n",
        "import matplotlib.pyplot as plt\n",
        "import numpy as np\n",
        "import seaborn as sns\n",
        "\n",
        "%matplotlib inline"
      ]
    },
    {
      "cell_type": "code",
      "execution_count": 2,
      "id": "f2d15ae7",
      "metadata": {
        "ExecuteTime": {
          "end_time": "2022-10-20T03:34:23.689862Z",
          "start_time": "2022-10-20T03:34:23.659950Z"
        },
        "id": "f2d15ae7"
      },
      "outputs": [],
      "source": [
        "# Carregando o dataset\n",
        "df = pd.read_csv('diabetes.csv') \n",
        "\n",
        "# Renomear a coluna DiabetesPedigreeFunction para DPF\n",
        "df.rename(columns={'DiabetesPedigreeFunction': 'DPF'}, inplace=True)"
      ]
    },
    {
      "cell_type": "code",
      "execution_count": 3,
      "id": "5f8f4a0d",
      "metadata": {
        "ExecuteTime": {
          "end_time": "2022-10-20T03:34:23.739153Z",
          "start_time": "2022-10-20T03:34:23.726299Z"
        },
        "id": "5f8f4a0d",
        "outputId": "63ce565d-9582-4b0b-af37-29b05c047204",
        "colab": {
          "base_uri": "https://localhost:8080/"
        }
      },
      "outputs": [
        {
          "output_type": "execute_result",
          "data": {
            "text/plain": [
              "(768, 9)"
            ]
          },
          "metadata": {},
          "execution_count": 3
        }
      ],
      "source": [
        "# Verificando o formato dos dados\n",
        "df.shape"
      ]
    },
    {
      "cell_type": "code",
      "execution_count": 34,
      "id": "329e26c9",
      "metadata": {
        "ExecuteTime": {
          "end_time": "2022-10-20T03:34:23.813604Z",
          "start_time": "2022-10-20T03:34:23.769984Z"
        },
        "id": "329e26c9",
        "outputId": "10f6ea1d-b027-464b-cc26-fb98d076168b",
        "colab": {
          "base_uri": "https://localhost:8080/",
          "height": 206
        }
      },
      "outputs": [
        {
          "output_type": "execute_result",
          "data": {
            "text/plain": [
              "   Pregnancies  Glucose  BloodPressure  SkinThickness  Insulin   BMI    DPF  \\\n",
              "0            6      148             72             35        0  33.6  0.627   \n",
              "1            1       85             66             29        0  26.6  0.351   \n",
              "2            8      183             64              0        0  23.3  0.672   \n",
              "3            1       89             66             23       94  28.1  0.167   \n",
              "4            0      137             40             35      168  43.1  2.288   \n",
              "\n",
              "   Age  Outcome  \n",
              "0   50        1  \n",
              "1   31        0  \n",
              "2   32        1  \n",
              "3   21        0  \n",
              "4   33        1  "
            ],
            "text/html": [
              "\n",
              "  <div id=\"df-019df31c-ec27-43c7-8282-3b3c16d567e4\">\n",
              "    <div class=\"colab-df-container\">\n",
              "      <div>\n",
              "<style scoped>\n",
              "    .dataframe tbody tr th:only-of-type {\n",
              "        vertical-align: middle;\n",
              "    }\n",
              "\n",
              "    .dataframe tbody tr th {\n",
              "        vertical-align: top;\n",
              "    }\n",
              "\n",
              "    .dataframe thead th {\n",
              "        text-align: right;\n",
              "    }\n",
              "</style>\n",
              "<table border=\"1\" class=\"dataframe\">\n",
              "  <thead>\n",
              "    <tr style=\"text-align: right;\">\n",
              "      <th></th>\n",
              "      <th>Pregnancies</th>\n",
              "      <th>Glucose</th>\n",
              "      <th>BloodPressure</th>\n",
              "      <th>SkinThickness</th>\n",
              "      <th>Insulin</th>\n",
              "      <th>BMI</th>\n",
              "      <th>DPF</th>\n",
              "      <th>Age</th>\n",
              "      <th>Outcome</th>\n",
              "    </tr>\n",
              "  </thead>\n",
              "  <tbody>\n",
              "    <tr>\n",
              "      <th>0</th>\n",
              "      <td>6</td>\n",
              "      <td>148</td>\n",
              "      <td>72</td>\n",
              "      <td>35</td>\n",
              "      <td>0</td>\n",
              "      <td>33.6</td>\n",
              "      <td>0.627</td>\n",
              "      <td>50</td>\n",
              "      <td>1</td>\n",
              "    </tr>\n",
              "    <tr>\n",
              "      <th>1</th>\n",
              "      <td>1</td>\n",
              "      <td>85</td>\n",
              "      <td>66</td>\n",
              "      <td>29</td>\n",
              "      <td>0</td>\n",
              "      <td>26.6</td>\n",
              "      <td>0.351</td>\n",
              "      <td>31</td>\n",
              "      <td>0</td>\n",
              "    </tr>\n",
              "    <tr>\n",
              "      <th>2</th>\n",
              "      <td>8</td>\n",
              "      <td>183</td>\n",
              "      <td>64</td>\n",
              "      <td>0</td>\n",
              "      <td>0</td>\n",
              "      <td>23.3</td>\n",
              "      <td>0.672</td>\n",
              "      <td>32</td>\n",
              "      <td>1</td>\n",
              "    </tr>\n",
              "    <tr>\n",
              "      <th>3</th>\n",
              "      <td>1</td>\n",
              "      <td>89</td>\n",
              "      <td>66</td>\n",
              "      <td>23</td>\n",
              "      <td>94</td>\n",
              "      <td>28.1</td>\n",
              "      <td>0.167</td>\n",
              "      <td>21</td>\n",
              "      <td>0</td>\n",
              "    </tr>\n",
              "    <tr>\n",
              "      <th>4</th>\n",
              "      <td>0</td>\n",
              "      <td>137</td>\n",
              "      <td>40</td>\n",
              "      <td>35</td>\n",
              "      <td>168</td>\n",
              "      <td>43.1</td>\n",
              "      <td>2.288</td>\n",
              "      <td>33</td>\n",
              "      <td>1</td>\n",
              "    </tr>\n",
              "  </tbody>\n",
              "</table>\n",
              "</div>\n",
              "      <button class=\"colab-df-convert\" onclick=\"convertToInteractive('df-019df31c-ec27-43c7-8282-3b3c16d567e4')\"\n",
              "              title=\"Convert this dataframe to an interactive table.\"\n",
              "              style=\"display:none;\">\n",
              "        \n",
              "  <svg xmlns=\"http://www.w3.org/2000/svg\" height=\"24px\"viewBox=\"0 0 24 24\"\n",
              "       width=\"24px\">\n",
              "    <path d=\"M0 0h24v24H0V0z\" fill=\"none\"/>\n",
              "    <path d=\"M18.56 5.44l.94 2.06.94-2.06 2.06-.94-2.06-.94-.94-2.06-.94 2.06-2.06.94zm-11 1L8.5 8.5l.94-2.06 2.06-.94-2.06-.94L8.5 2.5l-.94 2.06-2.06.94zm10 10l.94 2.06.94-2.06 2.06-.94-2.06-.94-.94-2.06-.94 2.06-2.06.94z\"/><path d=\"M17.41 7.96l-1.37-1.37c-.4-.4-.92-.59-1.43-.59-.52 0-1.04.2-1.43.59L10.3 9.45l-7.72 7.72c-.78.78-.78 2.05 0 2.83L4 21.41c.39.39.9.59 1.41.59.51 0 1.02-.2 1.41-.59l7.78-7.78 2.81-2.81c.8-.78.8-2.07 0-2.86zM5.41 20L4 18.59l7.72-7.72 1.47 1.35L5.41 20z\"/>\n",
              "  </svg>\n",
              "      </button>\n",
              "      \n",
              "  <style>\n",
              "    .colab-df-container {\n",
              "      display:flex;\n",
              "      flex-wrap:wrap;\n",
              "      gap: 12px;\n",
              "    }\n",
              "\n",
              "    .colab-df-convert {\n",
              "      background-color: #E8F0FE;\n",
              "      border: none;\n",
              "      border-radius: 50%;\n",
              "      cursor: pointer;\n",
              "      display: none;\n",
              "      fill: #1967D2;\n",
              "      height: 32px;\n",
              "      padding: 0 0 0 0;\n",
              "      width: 32px;\n",
              "    }\n",
              "\n",
              "    .colab-df-convert:hover {\n",
              "      background-color: #E2EBFA;\n",
              "      box-shadow: 0px 1px 2px rgba(60, 64, 67, 0.3), 0px 1px 3px 1px rgba(60, 64, 67, 0.15);\n",
              "      fill: #174EA6;\n",
              "    }\n",
              "\n",
              "    [theme=dark] .colab-df-convert {\n",
              "      background-color: #3B4455;\n",
              "      fill: #D2E3FC;\n",
              "    }\n",
              "\n",
              "    [theme=dark] .colab-df-convert:hover {\n",
              "      background-color: #434B5C;\n",
              "      box-shadow: 0px 1px 3px 1px rgba(0, 0, 0, 0.15);\n",
              "      filter: drop-shadow(0px 1px 2px rgba(0, 0, 0, 0.3));\n",
              "      fill: #FFFFFF;\n",
              "    }\n",
              "  </style>\n",
              "\n",
              "      <script>\n",
              "        const buttonEl =\n",
              "          document.querySelector('#df-019df31c-ec27-43c7-8282-3b3c16d567e4 button.colab-df-convert');\n",
              "        buttonEl.style.display =\n",
              "          google.colab.kernel.accessAllowed ? 'block' : 'none';\n",
              "\n",
              "        async function convertToInteractive(key) {\n",
              "          const element = document.querySelector('#df-019df31c-ec27-43c7-8282-3b3c16d567e4');\n",
              "          const dataTable =\n",
              "            await google.colab.kernel.invokeFunction('convertToInteractive',\n",
              "                                                     [key], {});\n",
              "          if (!dataTable) return;\n",
              "\n",
              "          const docLinkHtml = 'Like what you see? Visit the ' +\n",
              "            '<a target=\"_blank\" href=https://colab.research.google.com/notebooks/data_table.ipynb>data table notebook</a>'\n",
              "            + ' to learn more about interactive tables.';\n",
              "          element.innerHTML = '';\n",
              "          dataTable['output_type'] = 'display_data';\n",
              "          await google.colab.output.renderOutput(dataTable, element);\n",
              "          const docLink = document.createElement('div');\n",
              "          docLink.innerHTML = docLinkHtml;\n",
              "          element.appendChild(docLink);\n",
              "        }\n",
              "      </script>\n",
              "    </div>\n",
              "  </div>\n",
              "  "
            ]
          },
          "metadata": {},
          "execution_count": 34
        }
      ],
      "source": [
        "#Verificando as primeiras linhas\n",
        "df.head(5)"
      ]
    },
    {
      "cell_type": "code",
      "execution_count": 35,
      "id": "af59c19a",
      "metadata": {
        "ExecuteTime": {
          "end_time": "2022-10-20T03:34:23.879223Z",
          "start_time": "2022-10-20T03:34:23.849398Z"
        },
        "id": "af59c19a",
        "outputId": "24a2a4bf-5391-4dba-95fa-3c1717b80b4e",
        "colab": {
          "base_uri": "https://localhost:8080/"
        }
      },
      "outputs": [
        {
          "output_type": "stream",
          "name": "stdout",
          "text": [
            "<class 'pandas.core.frame.DataFrame'>\n",
            "RangeIndex: 768 entries, 0 to 767\n",
            "Data columns (total 9 columns):\n",
            " #   Column         Non-Null Count  Dtype  \n",
            "---  ------         --------------  -----  \n",
            " 0   Pregnancies    768 non-null    int64  \n",
            " 1   Glucose        768 non-null    int64  \n",
            " 2   BloodPressure  768 non-null    int64  \n",
            " 3   SkinThickness  768 non-null    int64  \n",
            " 4   Insulin        768 non-null    int64  \n",
            " 5   BMI            768 non-null    float64\n",
            " 6   DPF            768 non-null    float64\n",
            " 7   Age            768 non-null    int64  \n",
            " 8   Outcome        768 non-null    int64  \n",
            "dtypes: float64(2), int64(7)\n",
            "memory usage: 54.1 KB\n"
          ]
        }
      ],
      "source": [
        "# Verificando informações sobre os dados como coluna, valores não nulos, dtype e uso de memória.\n",
        "df.info()"
      ]
    },
    {
      "cell_type": "markdown",
      "source": [
        "O método **DataFrame.describe()** gera estatísticas descritivas que resumem a tendência central, a dispersão e a forma da distribuição de um conjunto de dados, excluindo valores NaN.\n",
        "\n",
        "Entendendo mais sobre .describe():\n",
        "\n",
        "- count nos informa o número de linhas NoN-vazias em um recurso.\n",
        "- mean nos diz o valor médio desse recurso.\n",
        "- std nos informa o valor do desvio padrão desse recurso.\n",
        "- min nos diz o valor mínimo desse recurso.\n",
        "- 25%, 50% e 75% são o percentil/quartil de cada feição. Essa informação de quartil nos ajuda a detectar Outliers.\n",
        "- max nos diz o valor máximo desse recurso."
      ],
      "metadata": {
        "id": "8HbOMSkLq3ht"
      },
      "id": "8HbOMSkLq3ht"
    },
    {
      "cell_type": "code",
      "source": [
        "# Mostrar as principais estatísticas\n",
        "df.describe()"
      ],
      "metadata": {
        "colab": {
          "base_uri": "https://localhost:8080/",
          "height": 300
        },
        "id": "yFNvZWUKqWfJ",
        "outputId": "6db27660-b41e-492a-ba1d-f2aa1ed443bf"
      },
      "id": "yFNvZWUKqWfJ",
      "execution_count": 36,
      "outputs": [
        {
          "output_type": "execute_result",
          "data": {
            "text/plain": [
              "       Pregnancies     Glucose  BloodPressure  SkinThickness     Insulin  \\\n",
              "count   768.000000  768.000000     768.000000     768.000000  768.000000   \n",
              "mean      3.845052  120.894531      69.105469      20.536458   79.799479   \n",
              "std       3.369578   31.972618      19.355807      15.952218  115.244002   \n",
              "min       0.000000    0.000000       0.000000       0.000000    0.000000   \n",
              "25%       1.000000   99.000000      62.000000       0.000000    0.000000   \n",
              "50%       3.000000  117.000000      72.000000      23.000000   30.500000   \n",
              "75%       6.000000  140.250000      80.000000      32.000000  127.250000   \n",
              "max      17.000000  199.000000     122.000000      99.000000  846.000000   \n",
              "\n",
              "              BMI         DPF         Age     Outcome  \n",
              "count  768.000000  768.000000  768.000000  768.000000  \n",
              "mean    31.992578    0.471876   33.240885    0.348958  \n",
              "std      7.884160    0.331329   11.760232    0.476951  \n",
              "min      0.000000    0.078000   21.000000    0.000000  \n",
              "25%     27.300000    0.243750   24.000000    0.000000  \n",
              "50%     32.000000    0.372500   29.000000    0.000000  \n",
              "75%     36.600000    0.626250   41.000000    1.000000  \n",
              "max     67.100000    2.420000   81.000000    1.000000  "
            ],
            "text/html": [
              "\n",
              "  <div id=\"df-4cc30df1-40bb-41a9-b258-4a2882de7a9e\">\n",
              "    <div class=\"colab-df-container\">\n",
              "      <div>\n",
              "<style scoped>\n",
              "    .dataframe tbody tr th:only-of-type {\n",
              "        vertical-align: middle;\n",
              "    }\n",
              "\n",
              "    .dataframe tbody tr th {\n",
              "        vertical-align: top;\n",
              "    }\n",
              "\n",
              "    .dataframe thead th {\n",
              "        text-align: right;\n",
              "    }\n",
              "</style>\n",
              "<table border=\"1\" class=\"dataframe\">\n",
              "  <thead>\n",
              "    <tr style=\"text-align: right;\">\n",
              "      <th></th>\n",
              "      <th>Pregnancies</th>\n",
              "      <th>Glucose</th>\n",
              "      <th>BloodPressure</th>\n",
              "      <th>SkinThickness</th>\n",
              "      <th>Insulin</th>\n",
              "      <th>BMI</th>\n",
              "      <th>DPF</th>\n",
              "      <th>Age</th>\n",
              "      <th>Outcome</th>\n",
              "    </tr>\n",
              "  </thead>\n",
              "  <tbody>\n",
              "    <tr>\n",
              "      <th>count</th>\n",
              "      <td>768.000000</td>\n",
              "      <td>768.000000</td>\n",
              "      <td>768.000000</td>\n",
              "      <td>768.000000</td>\n",
              "      <td>768.000000</td>\n",
              "      <td>768.000000</td>\n",
              "      <td>768.000000</td>\n",
              "      <td>768.000000</td>\n",
              "      <td>768.000000</td>\n",
              "    </tr>\n",
              "    <tr>\n",
              "      <th>mean</th>\n",
              "      <td>3.845052</td>\n",
              "      <td>120.894531</td>\n",
              "      <td>69.105469</td>\n",
              "      <td>20.536458</td>\n",
              "      <td>79.799479</td>\n",
              "      <td>31.992578</td>\n",
              "      <td>0.471876</td>\n",
              "      <td>33.240885</td>\n",
              "      <td>0.348958</td>\n",
              "    </tr>\n",
              "    <tr>\n",
              "      <th>std</th>\n",
              "      <td>3.369578</td>\n",
              "      <td>31.972618</td>\n",
              "      <td>19.355807</td>\n",
              "      <td>15.952218</td>\n",
              "      <td>115.244002</td>\n",
              "      <td>7.884160</td>\n",
              "      <td>0.331329</td>\n",
              "      <td>11.760232</td>\n",
              "      <td>0.476951</td>\n",
              "    </tr>\n",
              "    <tr>\n",
              "      <th>min</th>\n",
              "      <td>0.000000</td>\n",
              "      <td>0.000000</td>\n",
              "      <td>0.000000</td>\n",
              "      <td>0.000000</td>\n",
              "      <td>0.000000</td>\n",
              "      <td>0.000000</td>\n",
              "      <td>0.078000</td>\n",
              "      <td>21.000000</td>\n",
              "      <td>0.000000</td>\n",
              "    </tr>\n",
              "    <tr>\n",
              "      <th>25%</th>\n",
              "      <td>1.000000</td>\n",
              "      <td>99.000000</td>\n",
              "      <td>62.000000</td>\n",
              "      <td>0.000000</td>\n",
              "      <td>0.000000</td>\n",
              "      <td>27.300000</td>\n",
              "      <td>0.243750</td>\n",
              "      <td>24.000000</td>\n",
              "      <td>0.000000</td>\n",
              "    </tr>\n",
              "    <tr>\n",
              "      <th>50%</th>\n",
              "      <td>3.000000</td>\n",
              "      <td>117.000000</td>\n",
              "      <td>72.000000</td>\n",
              "      <td>23.000000</td>\n",
              "      <td>30.500000</td>\n",
              "      <td>32.000000</td>\n",
              "      <td>0.372500</td>\n",
              "      <td>29.000000</td>\n",
              "      <td>0.000000</td>\n",
              "    </tr>\n",
              "    <tr>\n",
              "      <th>75%</th>\n",
              "      <td>6.000000</td>\n",
              "      <td>140.250000</td>\n",
              "      <td>80.000000</td>\n",
              "      <td>32.000000</td>\n",
              "      <td>127.250000</td>\n",
              "      <td>36.600000</td>\n",
              "      <td>0.626250</td>\n",
              "      <td>41.000000</td>\n",
              "      <td>1.000000</td>\n",
              "    </tr>\n",
              "    <tr>\n",
              "      <th>max</th>\n",
              "      <td>17.000000</td>\n",
              "      <td>199.000000</td>\n",
              "      <td>122.000000</td>\n",
              "      <td>99.000000</td>\n",
              "      <td>846.000000</td>\n",
              "      <td>67.100000</td>\n",
              "      <td>2.420000</td>\n",
              "      <td>81.000000</td>\n",
              "      <td>1.000000</td>\n",
              "    </tr>\n",
              "  </tbody>\n",
              "</table>\n",
              "</div>\n",
              "      <button class=\"colab-df-convert\" onclick=\"convertToInteractive('df-4cc30df1-40bb-41a9-b258-4a2882de7a9e')\"\n",
              "              title=\"Convert this dataframe to an interactive table.\"\n",
              "              style=\"display:none;\">\n",
              "        \n",
              "  <svg xmlns=\"http://www.w3.org/2000/svg\" height=\"24px\"viewBox=\"0 0 24 24\"\n",
              "       width=\"24px\">\n",
              "    <path d=\"M0 0h24v24H0V0z\" fill=\"none\"/>\n",
              "    <path d=\"M18.56 5.44l.94 2.06.94-2.06 2.06-.94-2.06-.94-.94-2.06-.94 2.06-2.06.94zm-11 1L8.5 8.5l.94-2.06 2.06-.94-2.06-.94L8.5 2.5l-.94 2.06-2.06.94zm10 10l.94 2.06.94-2.06 2.06-.94-2.06-.94-.94-2.06-.94 2.06-2.06.94z\"/><path d=\"M17.41 7.96l-1.37-1.37c-.4-.4-.92-.59-1.43-.59-.52 0-1.04.2-1.43.59L10.3 9.45l-7.72 7.72c-.78.78-.78 2.05 0 2.83L4 21.41c.39.39.9.59 1.41.59.51 0 1.02-.2 1.41-.59l7.78-7.78 2.81-2.81c.8-.78.8-2.07 0-2.86zM5.41 20L4 18.59l7.72-7.72 1.47 1.35L5.41 20z\"/>\n",
              "  </svg>\n",
              "      </button>\n",
              "      \n",
              "  <style>\n",
              "    .colab-df-container {\n",
              "      display:flex;\n",
              "      flex-wrap:wrap;\n",
              "      gap: 12px;\n",
              "    }\n",
              "\n",
              "    .colab-df-convert {\n",
              "      background-color: #E8F0FE;\n",
              "      border: none;\n",
              "      border-radius: 50%;\n",
              "      cursor: pointer;\n",
              "      display: none;\n",
              "      fill: #1967D2;\n",
              "      height: 32px;\n",
              "      padding: 0 0 0 0;\n",
              "      width: 32px;\n",
              "    }\n",
              "\n",
              "    .colab-df-convert:hover {\n",
              "      background-color: #E2EBFA;\n",
              "      box-shadow: 0px 1px 2px rgba(60, 64, 67, 0.3), 0px 1px 3px 1px rgba(60, 64, 67, 0.15);\n",
              "      fill: #174EA6;\n",
              "    }\n",
              "\n",
              "    [theme=dark] .colab-df-convert {\n",
              "      background-color: #3B4455;\n",
              "      fill: #D2E3FC;\n",
              "    }\n",
              "\n",
              "    [theme=dark] .colab-df-convert:hover {\n",
              "      background-color: #434B5C;\n",
              "      box-shadow: 0px 1px 3px 1px rgba(0, 0, 0, 0.15);\n",
              "      filter: drop-shadow(0px 1px 2px rgba(0, 0, 0, 0.3));\n",
              "      fill: #FFFFFF;\n",
              "    }\n",
              "  </style>\n",
              "\n",
              "      <script>\n",
              "        const buttonEl =\n",
              "          document.querySelector('#df-4cc30df1-40bb-41a9-b258-4a2882de7a9e button.colab-df-convert');\n",
              "        buttonEl.style.display =\n",
              "          google.colab.kernel.accessAllowed ? 'block' : 'none';\n",
              "\n",
              "        async function convertToInteractive(key) {\n",
              "          const element = document.querySelector('#df-4cc30df1-40bb-41a9-b258-4a2882de7a9e');\n",
              "          const dataTable =\n",
              "            await google.colab.kernel.invokeFunction('convertToInteractive',\n",
              "                                                     [key], {});\n",
              "          if (!dataTable) return;\n",
              "\n",
              "          const docLinkHtml = 'Like what you see? Visit the ' +\n",
              "            '<a target=\"_blank\" href=https://colab.research.google.com/notebooks/data_table.ipynb>data table notebook</a>'\n",
              "            + ' to learn more about interactive tables.';\n",
              "          element.innerHTML = '';\n",
              "          dataTable['output_type'] = 'display_data';\n",
              "          await google.colab.output.renderOutput(dataTable, element);\n",
              "          const docLink = document.createElement('div');\n",
              "          docLink.innerHTML = docLinkHtml;\n",
              "          element.appendChild(docLink);\n",
              "        }\n",
              "      </script>\n",
              "    </div>\n",
              "  </div>\n",
              "  "
            ]
          },
          "metadata": {},
          "execution_count": 36
        }
      ]
    },
    {
      "cell_type": "markdown",
      "source": [
        "A análise descritiva mostra que temos algumas colunas com valores zerados o que acaba não fazendo sentido ja que alguém não pode ter a glicose ou pressão sanguínea zerada.\n",
        "\n",
        "Então é melhor substituir os valores zerados por NaN(valores nulos) nas seguintes colunas:\n",
        "\n",
        "- Glucose\n",
        "- BloodPressure\n",
        "- SkinThickness\n",
        "- Insulin\n",
        "- BMI\n"
      ],
      "metadata": {
        "id": "R_lxTu0Ps4bI"
      },
      "id": "R_lxTu0Ps4bI"
    },
    {
      "cell_type": "code",
      "source": [
        "diabetes_data_copy = df.copy(deep = True)\n",
        "diabetes_data_copy[['Glucose',\n",
        "                    'BloodPressure',\n",
        "                    'SkinThickness',\n",
        "                    'Insulin',\n",
        "                    'BMI']] = diabetes_data_copy[['Glucose',\n",
        "                                                  'BloodPressure',\n",
        "                                                  'SkinThickness',\n",
        "                                                  'Insulin',\n",
        "                                                  'BMI']].replace(0,np.NaN)\n",
        "\n",
        "# Mostrando a contagem dos NaN\n",
        "print(diabetes_data_copy.isnull().sum())"
      ],
      "metadata": {
        "colab": {
          "base_uri": "https://localhost:8080/"
        },
        "id": "NdVQ6Y5Rtw-o",
        "outputId": "f2cab3b7-08ae-4b56-d66c-14db4a1ca6a8"
      },
      "id": "NdVQ6Y5Rtw-o",
      "execution_count": 37,
      "outputs": [
        {
          "output_type": "stream",
          "name": "stdout",
          "text": [
            "Pregnancies        0\n",
            "Glucose            5\n",
            "BloodPressure     35\n",
            "SkinThickness    227\n",
            "Insulin          374\n",
            "BMI               11\n",
            "DPF                0\n",
            "Age                0\n",
            "Outcome            0\n",
            "dtype: int64\n"
          ]
        }
      ]
    },
    {
      "cell_type": "markdown",
      "source": [
        "Precisamos entender melhor sobre os dados para modificar os valores NaN.\n",
        "\n",
        "Iremos analisar a distribuição de cada coluna do dataset."
      ],
      "metadata": {
        "id": "vE0_M7SHx2cj"
      },
      "id": "vE0_M7SHx2cj"
    },
    {
      "cell_type": "code",
      "source": [
        "# Criando um histograma de cada coluna\n",
        "p = df.hist(figsize = (10,10))"
      ],
      "metadata": {
        "colab": {
          "base_uri": "https://localhost:8080/",
          "height": 607
        },
        "id": "GX2V_b3au-Dq",
        "outputId": "78923d48-a026-45c2-f667-58720eee77ee"
      },
      "id": "GX2V_b3au-Dq",
      "execution_count": 38,
      "outputs": [
        {
          "output_type": "display_data",
          "data": {
            "text/plain": [
              "<Figure size 720x720 with 9 Axes>"
            ],
            "image/png": "[encoded data removed]"
          },
          "metadata": {
            "needs_background": "light"
          }
        }
      ]
    },
    {
      "cell_type": "markdown",
      "source": [
        "Iremos fazer as alterações de valores NaN de acordo com suas distribuições.\n"
      ],
      "metadata": {
        "id": "2KziujE8yUK-"
      },
      "id": "2KziujE8yUK-"
    },
    {
      "cell_type": "code",
      "source": [
        "# Preenchendo os valores NaN com a média ou mediana\n",
        "diabetes_data_copy['Glucose'].fillna(diabetes_data_copy['Glucose'].mean(), inplace = True)\n",
        "diabetes_data_copy['BloodPressure'].fillna(diabetes_data_copy['BloodPressure'].mean(), inplace = True)\n",
        "diabetes_data_copy['SkinThickness'].fillna(diabetes_data_copy['SkinThickness'].median(), inplace = True)\n",
        "diabetes_data_copy['Insulin'].fillna(diabetes_data_copy['Insulin'].median(), inplace = True)\n",
        "diabetes_data_copy['BMI'].fillna(diabetes_data_copy['BMI'].median(), inplace = True)"
      ],
      "metadata": {
        "id": "TK49ovt-yQOn"
      },
      "id": "TK49ovt-yQOn",
      "execution_count": 39,
      "outputs": []
    },
    {
      "cell_type": "markdown",
      "source": [
        "Para facilitar nossa análise iremos inputar os valores das médias e medianas\n",
        "sobre os valores NaN.\n",
        "\n",
        "A média é calculada somando todos os valores e dividindo pelo número de valores. Ela é afetada por valores extremos (outliers) e não é uma medida robusta da tendência central dos dados. Portanto, é recomendado usar a média para dados que não têm outliers ou distribuições assimétricas.\n",
        "\n",
        "A mediana é o valor que divide uma amostra em duas partes iguais, é mais robusta que a média para dados com outliers ou distribuições assimétricas.\n",
        "\n",
        "Usamos a média em Glucose e BloodPreesure por ter poucos outliers a mediana em SkinThickness, Insulin e BMI por ter mais outliers."
      ],
      "metadata": {
        "id": "dlGrJLknzQxX"
      },
      "id": "dlGrJLknzQxX"
    },
    {
      "cell_type": "code",
      "source": [
        "# Plotando depois de remover os NaN\n",
        "p = diabetes_data_copy.hist(figsize = (10,10))"
      ],
      "metadata": {
        "colab": {
          "base_uri": "https://localhost:8080/",
          "height": 607
        },
        "id": "QNJLfH6WzurB",
        "outputId": "3d23894e-310e-40fe-c551-c21ba7481dd0"
      },
      "id": "QNJLfH6WzurB",
      "execution_count": 40,
      "outputs": [
        {
          "output_type": "display_data",
          "data": {
            "text/plain": [
              "<Figure size 720x720 with 9 Axes>"
            ],
            "image/png": "[encoded data removed]"
          },
          "metadata": {
            "needs_background": "light"
          }
        }
      ]
    },
    {
      "cell_type": "markdown",
      "source": [
        "Abaixo iremos fazer uma análise para saber qual o tipo de dado(String, Inteiro, Float)."
      ],
      "metadata": {
        "id": "GxdhPSDAKzGa"
      },
      "id": "GxdhPSDAKzGa"
    },
    {
      "cell_type": "code",
      "source": [
        "# Analise de tipo de dados.\n",
        "sns.countplot(y=df.dtypes ,data=df)\n",
        "plt.xlabel(\"Contar cada tipo de dado\")\n",
        "plt.ylabel(\"Tipo de dado\")\n",
        "plt.show()"
      ],
      "metadata": {
        "colab": {
          "base_uri": "https://localhost:8080/",
          "height": 279
        },
        "id": "ghBfHBel0SJ6",
        "outputId": "cf878369-7009-45a8-fe7d-d01ac52d3cca"
      },
      "id": "ghBfHBel0SJ6",
      "execution_count": 41,
      "outputs": [
        {
          "output_type": "display_data",
          "data": {
            "text/plain": [
              "<Figure size 432x288 with 1 Axes>"
            ],
            "image/png": "[encoded data removed]"
          },
          "metadata": {
            "needs_background": "light"
          }
        }
      ]
    },
    {
      "cell_type": "code",
      "source": [
        "# Verificando o equilíbrio dos dados plotando a contagem de resultados por seu valor\n",
        "print(df.Outcome.value_counts())\n",
        "p=df.Outcome.value_counts().plot(kind=\"bar\")\n",
        "\n",
        "plt.bar(df.Outcome.value_counts().index, df.Outcome.value_counts(), width = 0.3);"
      ],
      "metadata": {
        "colab": {
          "base_uri": "https://localhost:8080/",
          "height": 314
        },
        "id": "74mo1T5g0xMq",
        "outputId": "ddea1e48-72f9-4eb1-b924-693cd42e29e9"
      },
      "id": "74mo1T5g0xMq",
      "execution_count": 42,
      "outputs": [
        {
          "output_type": "stream",
          "name": "stdout",
          "text": [
            "0    500\n",
            "1    268\n",
            "Name: Outcome, dtype: int64\n"
          ]
        },
        {
          "output_type": "display_data",
          "data": {
            "text/plain": [
              "<Figure size 432x288 with 1 Axes>"
            ],
            "image/png": "[encoded data removed]"
          },
          "metadata": {
            "needs_background": "light"
          }
        }
      ]
    },
    {
      "cell_type": "markdown",
      "source": [
        "Iremos criar um heatmap onde ele ajuda a descobrir a relação entre duas variáveis. O valor do Coeficiente de Correlação pode estar entre -1 a +1. \n",
        "1 significa que eles são altamente correlacionados e 0 significa nenhuma correlação."
      ],
      "metadata": {
        "id": "y6Cd5XSznEbB"
      },
      "id": "y6Cd5XSznEbB"
    },
    {
      "cell_type": "code",
      "execution_count": 43,
      "id": "8a33aca4",
      "metadata": {
        "ExecuteTime": {
          "end_time": "2022-10-20T03:34:24.432267Z",
          "start_time": "2022-10-20T03:34:24.061168Z"
        },
        "id": "8a33aca4",
        "outputId": "ccf58679-4c33-442f-90f2-13cd4433f817",
        "colab": {
          "base_uri": "https://localhost:8080/",
          "height": 385
        }
      },
      "outputs": [
        {
          "output_type": "display_data",
          "data": {
            "text/plain": [
              "<Figure size 576x360 with 2 Axes>"
            ],
            "image/png": "[encoded data removed]"
          },
          "metadata": {
            "needs_background": "light"
          }
        }
      ],
      "source": [
        "# Heatmap com dados não limpos\n",
        "plt.figure(figsize=(8,5)) \n",
        "sns.heatmap(df.corr(), annot=True, cmap ='RdYlGn');"
      ]
    },
    {
      "cell_type": "code",
      "source": [
        "# Heatmap com dados limpos\n",
        "plt.figure(figsize=(8,5)) \n",
        "sns.heatmap(diabetes_data_copy.corr(), annot=True, cmap ='RdYlGn');"
      ],
      "metadata": {
        "colab": {
          "base_uri": "https://localhost:8080/",
          "height": 385
        },
        "id": "728kHQlEnfVi",
        "outputId": "4fac0763-db05-4bce-bc98-e6ec34b5145f"
      },
      "id": "728kHQlEnfVi",
      "execution_count": 44,
      "outputs": [
        {
          "output_type": "display_data",
          "data": {
            "text/plain": [
              "<Figure size 576x360 with 2 Axes>"
            ],
            "image/png": "[encoded data removed]"
          },
          "metadata": {
            "needs_background": "light"
          }
        }
      ]
    },
    {
      "cell_type": "markdown",
      "source": [
        "##**Seleção das variáveis(Feature Selection)**\n",
        "\n",
        "Iremos selecionar as melhores variáveis para fazer nosso treino e teste e depois de selecionar iremos fazer a divisão dos dados para treinar nosso modelo."
      ],
      "metadata": {
        "id": "jDGkFkQoOwxg"
      },
      "id": "jDGkFkQoOwxg"
    },
    {
      "cell_type": "code",
      "source": [
        "from sklearn.preprocessing import StandardScaler\n",
        "sc_X = StandardScaler()\n",
        "X =  pd.DataFrame(sc_X.fit_transform(diabetes_data_copy.drop([\"Outcome\"],axis = 1),),\n",
        "        columns=['Pregnancies', 'Glucose', 'BloodPressure', 'SkinThickness', 'Insulin',\n",
        "       'BMI', 'DPF', 'Age'])"
      ],
      "metadata": {
        "id": "gzH5aQbztPKS"
      },
      "id": "gzH5aQbztPKS",
      "execution_count": 45,
      "outputs": []
    },
    {
      "cell_type": "code",
      "source": [
        "X.head()"
      ],
      "metadata": {
        "colab": {
          "base_uri": "https://localhost:8080/",
          "height": 206
        },
        "id": "5at491MktaS5",
        "outputId": "3d27265e-1f65-4573-ee3e-05455d15bd42"
      },
      "id": "5at491MktaS5",
      "execution_count": 46,
      "outputs": [
        {
          "output_type": "execute_result",
          "data": {
            "text/plain": [
              "   Pregnancies   Glucose  BloodPressure  SkinThickness   Insulin       BMI  \\\n",
              "0     0.639947  0.865108      -0.033518       0.670643 -0.181541  0.166619   \n",
              "1    -0.844885 -1.206162      -0.529859      -0.012301 -0.181541 -0.852200   \n",
              "2     1.233880  2.015813      -0.695306      -0.012301 -0.181541 -1.332500   \n",
              "3    -0.844885 -1.074652      -0.529859      -0.695245 -0.540642 -0.633881   \n",
              "4    -1.141852  0.503458      -2.680669       0.670643  0.316566  1.549303   \n",
              "\n",
              "        DPF       Age  \n",
              "0  0.468492  1.425995  \n",
              "1 -0.365061 -0.190672  \n",
              "2  0.604397 -0.105584  \n",
              "3 -0.920763 -1.041549  \n",
              "4  5.484909 -0.020496  "
            ],
            "text/html": [
              "\n",
              "  <div id=\"df-19977cd3-cdc6-4337-b5cf-5ecface290e4\">\n",
              "    <div class=\"colab-df-container\">\n",
              "      <div>\n",
              "<style scoped>\n",
              "    .dataframe tbody tr th:only-of-type {\n",
              "        vertical-align: middle;\n",
              "    }\n",
              "\n",
              "    .dataframe tbody tr th {\n",
              "        vertical-align: top;\n",
              "    }\n",
              "\n",
              "    .dataframe thead th {\n",
              "        text-align: right;\n",
              "    }\n",
              "</style>\n",
              "<table border=\"1\" class=\"dataframe\">\n",
              "  <thead>\n",
              "    <tr style=\"text-align: right;\">\n",
              "      <th></th>\n",
              "      <th>Pregnancies</th>\n",
              "      <th>Glucose</th>\n",
              "      <th>BloodPressure</th>\n",
              "      <th>SkinThickness</th>\n",
              "      <th>Insulin</th>\n",
              "      <th>BMI</th>\n",
              "      <th>DPF</th>\n",
              "      <th>Age</th>\n",
              "    </tr>\n",
              "  </thead>\n",
              "  <tbody>\n",
              "    <tr>\n",
              "      <th>0</th>\n",
              "      <td>0.639947</td>\n",
              "      <td>0.865108</td>\n",
              "      <td>-0.033518</td>\n",
              "      <td>0.670643</td>\n",
              "      <td>-0.181541</td>\n",
              "      <td>0.166619</td>\n",
              "      <td>0.468492</td>\n",
              "      <td>1.425995</td>\n",
              "    </tr>\n",
              "    <tr>\n",
              "      <th>1</th>\n",
              "      <td>-0.844885</td>\n",
              "      <td>-1.206162</td>\n",
              "      <td>-0.529859</td>\n",
              "      <td>-0.012301</td>\n",
              "      <td>-0.181541</td>\n",
              "      <td>-0.852200</td>\n",
              "      <td>-0.365061</td>\n",
              "      <td>-0.190672</td>\n",
              "    </tr>\n",
              "    <tr>\n",
              "      <th>2</th>\n",
              "      <td>1.233880</td>\n",
              "      <td>2.015813</td>\n",
              "      <td>-0.695306</td>\n",
              "      <td>-0.012301</td>\n",
              "      <td>-0.181541</td>\n",
              "      <td>-1.332500</td>\n",
              "      <td>0.604397</td>\n",
              "      <td>-0.105584</td>\n",
              "    </tr>\n",
              "    <tr>\n",
              "      <th>3</th>\n",
              "      <td>-0.844885</td>\n",
              "      <td>-1.074652</td>\n",
              "      <td>-0.529859</td>\n",
              "      <td>-0.695245</td>\n",
              "      <td>-0.540642</td>\n",
              "      <td>-0.633881</td>\n",
              "      <td>-0.920763</td>\n",
              "      <td>-1.041549</td>\n",
              "    </tr>\n",
              "    <tr>\n",
              "      <th>4</th>\n",
              "      <td>-1.141852</td>\n",
              "      <td>0.503458</td>\n",
              "      <td>-2.680669</td>\n",
              "      <td>0.670643</td>\n",
              "      <td>0.316566</td>\n",
              "      <td>1.549303</td>\n",
              "      <td>5.484909</td>\n",
              "      <td>-0.020496</td>\n",
              "    </tr>\n",
              "  </tbody>\n",
              "</table>\n",
              "</div>\n",
              "      <button class=\"colab-df-convert\" onclick=\"convertToInteractive('df-19977cd3-cdc6-4337-b5cf-5ecface290e4')\"\n",
              "              title=\"Convert this dataframe to an interactive table.\"\n",
              "              style=\"display:none;\">\n",
              "        \n",
              "  <svg xmlns=\"http://www.w3.org/2000/svg\" height=\"24px\"viewBox=\"0 0 24 24\"\n",
              "       width=\"24px\">\n",
              "    <path d=\"M0 0h24v24H0V0z\" fill=\"none\"/>\n",
              "    <path d=\"M18.56 5.44l.94 2.06.94-2.06 2.06-.94-2.06-.94-.94-2.06-.94 2.06-2.06.94zm-11 1L8.5 8.5l.94-2.06 2.06-.94-2.06-.94L8.5 2.5l-.94 2.06-2.06.94zm10 10l.94 2.06.94-2.06 2.06-.94-2.06-.94-.94-2.06-.94 2.06-2.06.94z\"/><path d=\"M17.41 7.96l-1.37-1.37c-.4-.4-.92-.59-1.43-.59-.52 0-1.04.2-1.43.59L10.3 9.45l-7.72 7.72c-.78.78-.78 2.05 0 2.83L4 21.41c.39.39.9.59 1.41.59.51 0 1.02-.2 1.41-.59l7.78-7.78 2.81-2.81c.8-.78.8-2.07 0-2.86zM5.41 20L4 18.59l7.72-7.72 1.47 1.35L5.41 20z\"/>\n",
              "  </svg>\n",
              "      </button>\n",
              "      \n",
              "  <style>\n",
              "    .colab-df-container {\n",
              "      display:flex;\n",
              "      flex-wrap:wrap;\n",
              "      gap: 12px;\n",
              "    }\n",
              "\n",
              "    .colab-df-convert {\n",
              "      background-color: #E8F0FE;\n",
              "      border: none;\n",
              "      border-radius: 50%;\n",
              "      cursor: pointer;\n",
              "      display: none;\n",
              "      fill: #1967D2;\n",
              "      height: 32px;\n",
              "      padding: 0 0 0 0;\n",
              "      width: 32px;\n",
              "    }\n",
              "\n",
              "    .colab-df-convert:hover {\n",
              "      background-color: #E2EBFA;\n",
              "      box-shadow: 0px 1px 2px rgba(60, 64, 67, 0.3), 0px 1px 3px 1px rgba(60, 64, 67, 0.15);\n",
              "      fill: #174EA6;\n",
              "    }\n",
              "\n",
              "    [theme=dark] .colab-df-convert {\n",
              "      background-color: #3B4455;\n",
              "      fill: #D2E3FC;\n",
              "    }\n",
              "\n",
              "    [theme=dark] .colab-df-convert:hover {\n",
              "      background-color: #434B5C;\n",
              "      box-shadow: 0px 1px 3px 1px rgba(0, 0, 0, 0.15);\n",
              "      filter: drop-shadow(0px 1px 2px rgba(0, 0, 0, 0.3));\n",
              "      fill: #FFFFFF;\n",
              "    }\n",
              "  </style>\n",
              "\n",
              "      <script>\n",
              "        const buttonEl =\n",
              "          document.querySelector('#df-19977cd3-cdc6-4337-b5cf-5ecface290e4 button.colab-df-convert');\n",
              "        buttonEl.style.display =\n",
              "          google.colab.kernel.accessAllowed ? 'block' : 'none';\n",
              "\n",
              "        async function convertToInteractive(key) {\n",
              "          const element = document.querySelector('#df-19977cd3-cdc6-4337-b5cf-5ecface290e4');\n",
              "          const dataTable =\n",
              "            await google.colab.kernel.invokeFunction('convertToInteractive',\n",
              "                                                     [key], {});\n",
              "          if (!dataTable) return;\n",
              "\n",
              "          const docLinkHtml = 'Like what you see? Visit the ' +\n",
              "            '<a target=\"_blank\" href=https://colab.research.google.com/notebooks/data_table.ipynb>data table notebook</a>'\n",
              "            + ' to learn more about interactive tables.';\n",
              "          element.innerHTML = '';\n",
              "          dataTable['output_type'] = 'display_data';\n",
              "          await google.colab.output.renderOutput(dataTable, element);\n",
              "          const docLink = document.createElement('div');\n",
              "          docLink.innerHTML = docLinkHtml;\n",
              "          element.appendChild(docLink);\n",
              "        }\n",
              "      </script>\n",
              "    </div>\n",
              "  </div>\n",
              "  "
            ]
          },
          "metadata": {},
          "execution_count": 46
        }
      ]
    },
    {
      "cell_type": "code",
      "source": [
        "y = diabetes_data_copy.Outcome"
      ],
      "metadata": {
        "id": "t2gdh6oGtar5"
      },
      "id": "t2gdh6oGtar5",
      "execution_count": 49,
      "outputs": []
    },
    {
      "cell_type": "code",
      "execution_count": 50,
      "id": "c79d6401",
      "metadata": {
        "ExecuteTime": {
          "end_time": "2022-10-20T03:34:31.234237Z",
          "start_time": "2022-10-20T03:34:24.667877Z"
        },
        "id": "c79d6401"
      },
      "outputs": [],
      "source": [
        "import sklearn as sk\n",
        "from sklearn.model_selection import train_test_split"
      ]
    },
    {
      "cell_type": "code",
      "execution_count": 51,
      "id": "ccfc25c9",
      "metadata": {
        "ExecuteTime": {
          "end_time": "2022-10-20T03:43:10.853440Z",
          "start_time": "2022-10-20T03:43:10.837031Z"
        },
        "id": "ccfc25c9"
      },
      "outputs": [],
      "source": [
        "# Definindo taxa de split\n",
        "split_test_size = 0.30"
      ]
    },
    {
      "cell_type": "code",
      "execution_count": 52,
      "id": "4aa3df90",
      "metadata": {
        "ExecuteTime": {
          "end_time": "2022-10-20T03:45:09.170577Z",
          "start_time": "2022-10-20T03:45:09.160469Z"
        },
        "id": "4aa3df90"
      },
      "outputs": [],
      "source": [
        "# Criando dados de treino e teste\n",
        "X_treino, X_teste, y_treino, y_teste = train_test_split(X, y, test_size = split_test_size, random_state= 42)"
      ]
    },
    {
      "cell_type": "code",
      "execution_count": 53,
      "id": "e9c39d74",
      "metadata": {
        "ExecuteTime": {
          "end_time": "2022-10-20T03:47:16.293477Z",
          "start_time": "2022-10-20T03:47:16.284557Z"
        },
        "id": "e9c39d74",
        "outputId": "bc93fe93-f6e8-4a07-c3a7-a6403826d8cf",
        "colab": {
          "base_uri": "https://localhost:8080/"
        }
      },
      "outputs": [
        {
          "output_type": "stream",
          "name": "stdout",
          "text": [
            "69.92% nos dados de treino\n",
            "30.08% nos dados de teste\n"
          ]
        }
      ],
      "source": [
        "# Imprimindo os resultados\n",
        "print(\"{0:0.2f}% nos dados de treino\".format((len(X_treino)/len(df.index)) * 100))\n",
        "print(\"{0:0.2f}% nos dados de teste\".format((len(X_teste)/len(df.index)) * 100))"
      ]
    },
    {
      "cell_type": "markdown",
      "source": [
        "##**Criando nosso modelo e treinando**\n",
        "\n",
        "Iremos criar nosso modelo usando o classificador Naive Bayes.\n",
        "\n",
        "O Naive Bayes é um algoritmo de classificação que é totalmente baseado no teorema de bayes que é um dos fundamentos da estatistica que serve para calcular a probabilidade condicional de um evento dado que outro evento ocorreu.(Algoritmo probabilístico)"
      ],
      "metadata": {
        "id": "tl8zJlv_PLTN"
      },
      "id": "tl8zJlv_PLTN"
    },
    {
      "cell_type": "code",
      "execution_count": 56,
      "id": "5c51347a",
      "metadata": {
        "ExecuteTime": {
          "end_time": "2022-10-20T04:03:23.419138Z",
          "start_time": "2022-10-20T04:03:23.402675Z"
        },
        "id": "5c51347a"
      },
      "outputs": [],
      "source": [
        "#Utilizando classificador Naive Bayes\n",
        "from sklearn.naive_bayes import GaussianNB"
      ]
    },
    {
      "cell_type": "code",
      "execution_count": 57,
      "id": "3732dac0",
      "metadata": {
        "ExecuteTime": {
          "end_time": "2022-10-20T04:03:33.849816Z",
          "start_time": "2022-10-20T04:03:33.826163Z"
        },
        "id": "3732dac0"
      },
      "outputs": [],
      "source": [
        "modelo_v1 = GaussianNB()"
      ]
    },
    {
      "cell_type": "code",
      "execution_count": 58,
      "id": "fd61bde5",
      "metadata": {
        "ExecuteTime": {
          "end_time": "2022-10-20T04:04:04.553039Z",
          "start_time": "2022-10-20T04:04:04.529437Z"
        },
        "id": "fd61bde5",
        "outputId": "87224ed3-a0b7-496e-d6d2-e210fa97707d",
        "colab": {
          "base_uri": "https://localhost:8080/"
        }
      },
      "outputs": [
        {
          "output_type": "execute_result",
          "data": {
            "text/plain": [
              "GaussianNB()"
            ]
          },
          "metadata": {},
          "execution_count": 58
        }
      ],
      "source": [
        "#Treinando o modelo(Usamos o ravel para ajustar o shape do algoritmo.)\n",
        "modelo_v1.fit(X_treino, y_treino.ravel())"
      ]
    },
    {
      "cell_type": "markdown",
      "source": [
        "##**Verificando a exatidão no modelo nos dados de treino**\n",
        "\n",
        "Vamos medir o desempenho do nosso modelo para avaliar a sua precisão. Usaremos a acuracia para fazer o calculo ela é calculada dividindo o número de previsões corretas pelo número total de previsões feitas pelo modelo. \n",
        "\n",
        "A acurácia é expressa como uma porcentagem, com valores entre 0% e 100%. Quanto maior a acurácia, melhor é o desempenho do modelo. \n",
        "\n",
        "No entanto, é importante notar que **a acurácia por si só pode não ser suficiente para avaliar o desempenho de um modelo**, especialmente em casos onde as classes são desequilibradas."
      ],
      "metadata": {
        "id": "5ye0csTGSc0w"
      },
      "id": "5ye0csTGSc0w"
    },
    {
      "cell_type": "code",
      "execution_count": 59,
      "id": "eaf048ff",
      "metadata": {
        "ExecuteTime": {
          "end_time": "2022-10-20T04:07:57.260979Z",
          "start_time": "2022-10-20T04:07:57.236373Z"
        },
        "id": "eaf048ff"
      },
      "outputs": [],
      "source": [
        "from sklearn import metrics"
      ]
    },
    {
      "cell_type": "code",
      "execution_count": 62,
      "id": "46a53301",
      "metadata": {
        "ExecuteTime": {
          "end_time": "2022-10-20T04:11:50.466344Z",
          "start_time": "2022-10-20T04:11:50.445415Z"
        },
        "id": "46a53301",
        "outputId": "8ac23f67-1b3f-4552-ddab-28207af87e65",
        "colab": {
          "base_uri": "https://localhost:8080/"
        }
      },
      "outputs": [
        {
          "output_type": "stream",
          "name": "stdout",
          "text": [
            "Exatidão(Accuracy): 0.754190\n"
          ]
        }
      ],
      "source": [
        "nb_predict_train = modelo_v1.predict(X_treino)\n",
        "print(\"Exatidão(Accuracy): {0:4f}\".format(metrics.accuracy_score(y_treino, nb_predict_train)))"
      ]
    },
    {
      "cell_type": "markdown",
      "source": [
        "##**Verificando a exatidão no modelo nos dados de teste**"
      ],
      "metadata": {
        "id": "vG7RTJ2YTugE"
      },
      "id": "vG7RTJ2YTugE"
    },
    {
      "cell_type": "code",
      "execution_count": 65,
      "id": "8dc3bbce",
      "metadata": {
        "ExecuteTime": {
          "end_time": "2022-10-20T04:13:55.940933Z",
          "start_time": "2022-10-20T04:13:55.922984Z"
        },
        "id": "8dc3bbce",
        "outputId": "2f0ea7ff-9c4d-4fd5-8632-6dc0f4c0bcff",
        "colab": {
          "base_uri": "https://localhost:8080/"
        }
      },
      "outputs": [
        {
          "output_type": "stream",
          "name": "stdout",
          "text": [
            "Exatidão(Accuracy): 0.740260\n"
          ]
        }
      ],
      "source": [
        "nb_predict_test = modelo_v1.predict(X_teste)\n",
        "print(\"Exatidão(Accuracy): {0:4f}\".format(metrics.accuracy_score(y_teste, nb_predict_test)))"
      ]
    },
    {
      "cell_type": "markdown",
      "source": [
        "##**Criando uma matriz de confusão**\n",
        "A matriz de confusão é uma tabela que é usada para mostrar como um classificador está se saindo ao prever diferentes classes. \n",
        "\n",
        "Ela mostra quantas vezes o classificador previu corretamente cada classe (os chamados \"verdadeiros positivos\" e \"verdadeiros negativos\") e quantas vezes ele se enganou (os chamados \"falsos positivos\" e \"falsos negativos\"). \n",
        "\n",
        "Isso permite avaliar a precisão do classificador e identificar quais classes ele tem dificuldade em diferenciar.\n",
        "\n",
        "A seguir na imagem temos um exemplo de uma matrix de confusão:\n",
        "<center><img alt=\"Indios Pima\" width=\"50%\" src=\"https://static.wixstatic.com/media/c2a451_6fb08563b7e64572ad479b06ebd2ef6d~mv2.png/v1/fill/w_682,h_270,al_c,q_85,usm_0.66_1.00_0.01,enc_auto/c2a451_6fb08563b7e64572ad479b06ebd2ef6d~mv2.png\">"
      ],
      "metadata": {
        "id": "pWYgy9XZc29t"
      },
      "id": "pWYgy9XZc29t"
    },
    {
      "cell_type": "code",
      "execution_count": 85,
      "id": "9b22d394",
      "metadata": {
        "ExecuteTime": {
          "end_time": "2022-10-20T04:18:58.843461Z",
          "start_time": "2022-10-20T04:18:58.818753Z"
        },
        "id": "9b22d394",
        "outputId": "9da2b29f-5087-4734-b0c1-296af04dc032",
        "colab": {
          "base_uri": "https://localhost:8080/",
          "height": 175
        }
      },
      "outputs": [
        {
          "output_type": "execute_result",
          "data": {
            "text/plain": [
              "Predicted    0   1  All\n",
              "True                   \n",
              "0          119  32  151\n",
              "1           28  52   80\n",
              "All        147  84  231"
            ],
            "text/html": [
              "\n",
              "  <div id=\"df-4851002a-e6cf-4cbb-9fdb-dd95107405c7\">\n",
              "    <div class=\"colab-df-container\">\n",
              "      <div>\n",
              "<style scoped>\n",
              "    .dataframe tbody tr th:only-of-type {\n",
              "        vertical-align: middle;\n",
              "    }\n",
              "\n",
              "    .dataframe tbody tr th {\n",
              "        vertical-align: top;\n",
              "    }\n",
              "\n",
              "    .dataframe thead th {\n",
              "        text-align: right;\n",
              "    }\n",
              "</style>\n",
              "<table border=\"1\" class=\"dataframe\">\n",
              "  <thead>\n",
              "    <tr style=\"text-align: right;\">\n",
              "      <th>Predicted</th>\n",
              "      <th>0</th>\n",
              "      <th>1</th>\n",
              "      <th>All</th>\n",
              "    </tr>\n",
              "    <tr>\n",
              "      <th>True</th>\n",
              "      <th></th>\n",
              "      <th></th>\n",
              "      <th></th>\n",
              "    </tr>\n",
              "  </thead>\n",
              "  <tbody>\n",
              "    <tr>\n",
              "      <th>0</th>\n",
              "      <td>119</td>\n",
              "      <td>32</td>\n",
              "      <td>151</td>\n",
              "    </tr>\n",
              "    <tr>\n",
              "      <th>1</th>\n",
              "      <td>28</td>\n",
              "      <td>52</td>\n",
              "      <td>80</td>\n",
              "    </tr>\n",
              "    <tr>\n",
              "      <th>All</th>\n",
              "      <td>147</td>\n",
              "      <td>84</td>\n",
              "      <td>231</td>\n",
              "    </tr>\n",
              "  </tbody>\n",
              "</table>\n",
              "</div>\n",
              "      <button class=\"colab-df-convert\" onclick=\"convertToInteractive('df-4851002a-e6cf-4cbb-9fdb-dd95107405c7')\"\n",
              "              title=\"Convert this dataframe to an interactive table.\"\n",
              "              style=\"display:none;\">\n",
              "        \n",
              "  <svg xmlns=\"http://www.w3.org/2000/svg\" height=\"24px\"viewBox=\"0 0 24 24\"\n",
              "       width=\"24px\">\n",
              "    <path d=\"M0 0h24v24H0V0z\" fill=\"none\"/>\n",
              "    <path d=\"M18.56 5.44l.94 2.06.94-2.06 2.06-.94-2.06-.94-.94-2.06-.94 2.06-2.06.94zm-11 1L8.5 8.5l.94-2.06 2.06-.94-2.06-.94L8.5 2.5l-.94 2.06-2.06.94zm10 10l.94 2.06.94-2.06 2.06-.94-2.06-.94-.94-2.06-.94 2.06-2.06.94z\"/><path d=\"M17.41 7.96l-1.37-1.37c-.4-.4-.92-.59-1.43-.59-.52 0-1.04.2-1.43.59L10.3 9.45l-7.72 7.72c-.78.78-.78 2.05 0 2.83L4 21.41c.39.39.9.59 1.41.59.51 0 1.02-.2 1.41-.59l7.78-7.78 2.81-2.81c.8-.78.8-2.07 0-2.86zM5.41 20L4 18.59l7.72-7.72 1.47 1.35L5.41 20z\"/>\n",
              "  </svg>\n",
              "      </button>\n",
              "      \n",
              "  <style>\n",
              "    .colab-df-container {\n",
              "      display:flex;\n",
              "      flex-wrap:wrap;\n",
              "      gap: 12px;\n",
              "    }\n",
              "\n",
              "    .colab-df-convert {\n",
              "      background-color: #E8F0FE;\n",
              "      border: none;\n",
              "      border-radius: 50%;\n",
              "      cursor: pointer;\n",
              "      display: none;\n",
              "      fill: #1967D2;\n",
              "      height: 32px;\n",
              "      padding: 0 0 0 0;\n",
              "      width: 32px;\n",
              "    }\n",
              "\n",
              "    .colab-df-convert:hover {\n",
              "      background-color: #E2EBFA;\n",
              "      box-shadow: 0px 1px 2px rgba(60, 64, 67, 0.3), 0px 1px 3px 1px rgba(60, 64, 67, 0.15);\n",
              "      fill: #174EA6;\n",
              "    }\n",
              "\n",
              "    [theme=dark] .colab-df-convert {\n",
              "      background-color: #3B4455;\n",
              "      fill: #D2E3FC;\n",
              "    }\n",
              "\n",
              "    [theme=dark] .colab-df-convert:hover {\n",
              "      background-color: #434B5C;\n",
              "      box-shadow: 0px 1px 3px 1px rgba(0, 0, 0, 0.15);\n",
              "      filter: drop-shadow(0px 1px 2px rgba(0, 0, 0, 0.3));\n",
              "      fill: #FFFFFF;\n",
              "    }\n",
              "  </style>\n",
              "\n",
              "      <script>\n",
              "        const buttonEl =\n",
              "          document.querySelector('#df-4851002a-e6cf-4cbb-9fdb-dd95107405c7 button.colab-df-convert');\n",
              "        buttonEl.style.display =\n",
              "          google.colab.kernel.accessAllowed ? 'block' : 'none';\n",
              "\n",
              "        async function convertToInteractive(key) {\n",
              "          const element = document.querySelector('#df-4851002a-e6cf-4cbb-9fdb-dd95107405c7');\n",
              "          const dataTable =\n",
              "            await google.colab.kernel.invokeFunction('convertToInteractive',\n",
              "                                                     [key], {});\n",
              "          if (!dataTable) return;\n",
              "\n",
              "          const docLinkHtml = 'Like what you see? Visit the ' +\n",
              "            '<a target=\"_blank\" href=https://colab.research.google.com/notebooks/data_table.ipynb>data table notebook</a>'\n",
              "            + ' to learn more about interactive tables.';\n",
              "          element.innerHTML = '';\n",
              "          dataTable['output_type'] = 'display_data';\n",
              "          await google.colab.output.renderOutput(dataTable, element);\n",
              "          const docLink = document.createElement('div');\n",
              "          docLink.innerHTML = docLinkHtml;\n",
              "          element.appendChild(docLink);\n",
              "        }\n",
              "      </script>\n",
              "    </div>\n",
              "  </div>\n",
              "  "
            ]
          },
          "metadata": {},
          "execution_count": 85
        }
      ],
      "source": [
        "# Criando uma matriz de confusão\n",
        "from sklearn.metrics import confusion_matrix\n",
        "\n",
        "y_pred = modelo_v1.predict(X_teste)\n",
        "confusion_matrix(y_teste,y_pred)\n",
        "pd.crosstab(y_teste, y_pred, rownames=['True'], colnames=['Predicted'], margins=True)"
      ]
    },
    {
      "cell_type": "code",
      "source": [
        "# Criando grafico com a matriz de confusão\n",
        "bnb_predict_test = modelo_v1.predict(X_teste)\n",
        "from sklearn import metrics\n",
        "cnf_matrix = metrics.confusion_matrix(y_teste, nb_predict_test)\n",
        "p = sns.heatmap(pd.DataFrame(cnf_matrix), annot=True, cmap=\"YlGnBu\" ,fmt='g')\n",
        "plt.title('Confusion matrix', y=1.1)\n",
        "plt.ylabel('Actual label')\n",
        "plt.xlabel('Predicted label');"
      ],
      "metadata": {
        "colab": {
          "base_uri": "https://localhost:8080/",
          "height": 295
        },
        "id": "1F0tGkzPcXVZ",
        "outputId": "22c12de2-1fad-4d2a-cf17-acf538ff0cc5"
      },
      "id": "1F0tGkzPcXVZ",
      "execution_count": 83,
      "outputs": [
        {
          "output_type": "display_data",
          "data": {
            "text/plain": [
              "<Figure size 432x288 with 2 Axes>"
            ],
            "image/png": "[encoded data removed]"
          },
          "metadata": {
            "needs_background": "light"
          }
        }
      ]
    },
    {
      "cell_type": "markdown",
      "source": [
        "A matriz de confusão acima mostra que o modelo previu corretamente 119 indivíduos sem diabetes (VP) e 52 indivíduos com diabetes (VN). \n",
        "\n",
        "Por outro lado, o modelo previu incorretamente 32 indivíduos sem diabetes (FP) e 28 indivíduos com diabetes (FN). O \"All\" mostra o total de previsões realizadas pelo modelo para cada classe."
      ],
      "metadata": {
        "id": "mTOLeDfNezml"
      },
      "id": "mTOLeDfNezml"
    },
    {
      "cell_type": "markdown",
      "id": "9503267b",
      "metadata": {
        "id": "9503267b"
      },
      "source": [
        "## Otimizando o modelo com RandomForest"
      ]
    },
    {
      "cell_type": "code",
      "execution_count": 86,
      "id": "e7143749",
      "metadata": {
        "ExecuteTime": {
          "end_time": "2022-10-20T04:25:48.926959Z",
          "start_time": "2022-10-20T04:25:48.918774Z"
        },
        "id": "e7143749"
      },
      "outputs": [],
      "source": [
        "from sklearn.ensemble import RandomForestClassifier"
      ]
    },
    {
      "cell_type": "code",
      "execution_count": 87,
      "id": "9854b59e",
      "metadata": {
        "ExecuteTime": {
          "end_time": "2022-10-20T04:26:19.450582Z",
          "start_time": "2022-10-20T04:26:19.116558Z"
        },
        "id": "9854b59e",
        "outputId": "c6492915-80a4-4557-f5d6-880a026f4a07",
        "colab": {
          "base_uri": "https://localhost:8080/"
        }
      },
      "outputs": [
        {
          "output_type": "execute_result",
          "data": {
            "text/plain": [
              "RandomForestClassifier(random_state=42)"
            ]
          },
          "metadata": {},
          "execution_count": 87
        }
      ],
      "source": [
        "modelo_v2 = RandomForestClassifier(random_state=42)\n",
        "modelo_v2.fit(X_treino, y_treino.ravel())"
      ]
    },
    {
      "cell_type": "code",
      "execution_count": 88,
      "id": "9824aacb",
      "metadata": {
        "ExecuteTime": {
          "end_time": "2022-10-20T04:30:44.079156Z",
          "start_time": "2022-10-20T04:30:44.032625Z"
        },
        "id": "9824aacb",
        "outputId": "f06675ca-f419-4435-8c94-662e4dafd89b",
        "colab": {
          "base_uri": "https://localhost:8080/"
        }
      },
      "outputs": [
        {
          "output_type": "stream",
          "name": "stdout",
          "text": [
            "Accuracy: 1.000000\n"
          ]
        }
      ],
      "source": [
        "#Verificando os dados de treino\n",
        "rf_predict_train = modelo_v2.predict(X_treino)\n",
        "print(\"Accuracy: {0:4f}\".format(metrics.accuracy_score(y_treino, rf_predict_train)))"
      ]
    },
    {
      "cell_type": "code",
      "execution_count": 89,
      "id": "447bf150",
      "metadata": {
        "ExecuteTime": {
          "end_time": "2022-10-20T04:32:32.456490Z",
          "start_time": "2022-10-20T04:32:32.420894Z"
        },
        "id": "447bf150",
        "outputId": "3c87d23d-ea90-4be5-c81b-9ed8b8cf6e6c",
        "colab": {
          "base_uri": "https://localhost:8080/"
        }
      },
      "outputs": [
        {
          "output_type": "stream",
          "name": "stdout",
          "text": [
            "Accuracy: 0.753247\n"
          ]
        }
      ],
      "source": [
        "#Verificando os dados de teste\n",
        "rf_predict_test = modelo_v2.predict(X_teste)\n",
        "print(\"Accuracy: {0:4f}\".format(metrics.accuracy_score(y_teste, rf_predict_test)))"
      ]
    },
    {
      "cell_type": "code",
      "execution_count": 91,
      "id": "72050494",
      "metadata": {
        "ExecuteTime": {
          "end_time": "2022-10-20T04:33:16.512471Z",
          "start_time": "2022-10-20T04:33:16.480043Z"
        },
        "id": "72050494",
        "outputId": "b82fb34e-1f10-41e3-8e85-3375c8cb452c",
        "colab": {
          "base_uri": "https://localhost:8080/",
          "height": 175
        }
      },
      "outputs": [
        {
          "output_type": "execute_result",
          "data": {
            "text/plain": [
              "Predicted    0   1  All\n",
              "True                   \n",
              "0          120  31  151\n",
              "1           26  54   80\n",
              "All        146  85  231"
            ],
            "text/html": [
              "\n",
              "  <div id=\"df-fb359a56-db1e-4112-909b-631fd015e1a2\">\n",
              "    <div class=\"colab-df-container\">\n",
              "      <div>\n",
              "<style scoped>\n",
              "    .dataframe tbody tr th:only-of-type {\n",
              "        vertical-align: middle;\n",
              "    }\n",
              "\n",
              "    .dataframe tbody tr th {\n",
              "        vertical-align: top;\n",
              "    }\n",
              "\n",
              "    .dataframe thead th {\n",
              "        text-align: right;\n",
              "    }\n",
              "</style>\n",
              "<table border=\"1\" class=\"dataframe\">\n",
              "  <thead>\n",
              "    <tr style=\"text-align: right;\">\n",
              "      <th>Predicted</th>\n",
              "      <th>0</th>\n",
              "      <th>1</th>\n",
              "      <th>All</th>\n",
              "    </tr>\n",
              "    <tr>\n",
              "      <th>True</th>\n",
              "      <th></th>\n",
              "      <th></th>\n",
              "      <th></th>\n",
              "    </tr>\n",
              "  </thead>\n",
              "  <tbody>\n",
              "    <tr>\n",
              "      <th>0</th>\n",
              "      <td>120</td>\n",
              "      <td>31</td>\n",
              "      <td>151</td>\n",
              "    </tr>\n",
              "    <tr>\n",
              "      <th>1</th>\n",
              "      <td>26</td>\n",
              "      <td>54</td>\n",
              "      <td>80</td>\n",
              "    </tr>\n",
              "    <tr>\n",
              "      <th>All</th>\n",
              "      <td>146</td>\n",
              "      <td>85</td>\n",
              "      <td>231</td>\n",
              "    </tr>\n",
              "  </tbody>\n",
              "</table>\n",
              "</div>\n",
              "      <button class=\"colab-df-convert\" onclick=\"convertToInteractive('df-fb359a56-db1e-4112-909b-631fd015e1a2')\"\n",
              "              title=\"Convert this dataframe to an interactive table.\"\n",
              "              style=\"display:none;\">\n",
              "        \n",
              "  <svg xmlns=\"http://www.w3.org/2000/svg\" height=\"24px\"viewBox=\"0 0 24 24\"\n",
              "       width=\"24px\">\n",
              "    <path d=\"M0 0h24v24H0V0z\" fill=\"none\"/>\n",
              "    <path d=\"M18.56 5.44l.94 2.06.94-2.06 2.06-.94-2.06-.94-.94-2.06-.94 2.06-2.06.94zm-11 1L8.5 8.5l.94-2.06 2.06-.94-2.06-.94L8.5 2.5l-.94 2.06-2.06.94zm10 10l.94 2.06.94-2.06 2.06-.94-2.06-.94-.94-2.06-.94 2.06-2.06.94z\"/><path d=\"M17.41 7.96l-1.37-1.37c-.4-.4-.92-.59-1.43-.59-.52 0-1.04.2-1.43.59L10.3 9.45l-7.72 7.72c-.78.78-.78 2.05 0 2.83L4 21.41c.39.39.9.59 1.41.59.51 0 1.02-.2 1.41-.59l7.78-7.78 2.81-2.81c.8-.78.8-2.07 0-2.86zM5.41 20L4 18.59l7.72-7.72 1.47 1.35L5.41 20z\"/>\n",
              "  </svg>\n",
              "      </button>\n",
              "      \n",
              "  <style>\n",
              "    .colab-df-container {\n",
              "      display:flex;\n",
              "      flex-wrap:wrap;\n",
              "      gap: 12px;\n",
              "    }\n",
              "\n",
              "    .colab-df-convert {\n",
              "      background-color: #E8F0FE;\n",
              "      border: none;\n",
              "      border-radius: 50%;\n",
              "      cursor: pointer;\n",
              "      display: none;\n",
              "      fill: #1967D2;\n",
              "      height: 32px;\n",
              "      padding: 0 0 0 0;\n",
              "      width: 32px;\n",
              "    }\n",
              "\n",
              "    .colab-df-convert:hover {\n",
              "      background-color: #E2EBFA;\n",
              "      box-shadow: 0px 1px 2px rgba(60, 64, 67, 0.3), 0px 1px 3px 1px rgba(60, 64, 67, 0.15);\n",
              "      fill: #174EA6;\n",
              "    }\n",
              "\n",
              "    [theme=dark] .colab-df-convert {\n",
              "      background-color: #3B4455;\n",
              "      fill: #D2E3FC;\n",
              "    }\n",
              "\n",
              "    [theme=dark] .colab-df-convert:hover {\n",
              "      background-color: #434B5C;\n",
              "      box-shadow: 0px 1px 3px 1px rgba(0, 0, 0, 0.15);\n",
              "      filter: drop-shadow(0px 1px 2px rgba(0, 0, 0, 0.3));\n",
              "      fill: #FFFFFF;\n",
              "    }\n",
              "  </style>\n",
              "\n",
              "      <script>\n",
              "        const buttonEl =\n",
              "          document.querySelector('#df-fb359a56-db1e-4112-909b-631fd015e1a2 button.colab-df-convert');\n",
              "        buttonEl.style.display =\n",
              "          google.colab.kernel.accessAllowed ? 'block' : 'none';\n",
              "\n",
              "        async function convertToInteractive(key) {\n",
              "          const element = document.querySelector('#df-fb359a56-db1e-4112-909b-631fd015e1a2');\n",
              "          const dataTable =\n",
              "            await google.colab.kernel.invokeFunction('convertToInteractive',\n",
              "                                                     [key], {});\n",
              "          if (!dataTable) return;\n",
              "\n",
              "          const docLinkHtml = 'Like what you see? Visit the ' +\n",
              "            '<a target=\"_blank\" href=https://colab.research.google.com/notebooks/data_table.ipynb>data table notebook</a>'\n",
              "            + ' to learn more about interactive tables.';\n",
              "          element.innerHTML = '';\n",
              "          dataTable['output_type'] = 'display_data';\n",
              "          await google.colab.output.renderOutput(dataTable, element);\n",
              "          const docLink = document.createElement('div');\n",
              "          docLink.innerHTML = docLinkHtml;\n",
              "          element.appendChild(docLink);\n",
              "        }\n",
              "      </script>\n",
              "    </div>\n",
              "  </div>\n",
              "  "
            ]
          },
          "metadata": {},
          "execution_count": 91
        }
      ],
      "source": [
        "# Criando uma matriz de confusão\n",
        "from sklearn.metrics import confusion_matrix\n",
        "\n",
        "y_pred = modelo_v2.predict(X_teste)\n",
        "confusion_matrix(y_teste,y_pred)\n",
        "pd.crosstab(y_teste, y_pred, rownames=['True'], colnames=['Predicted'], margins=True)"
      ]
    },
    {
      "cell_type": "markdown",
      "id": "34749184",
      "metadata": {
        "id": "34749184"
      },
      "source": [
        "## Regressão Logistica"
      ]
    },
    {
      "cell_type": "code",
      "execution_count": 102,
      "id": "6c0cec68",
      "metadata": {
        "ExecuteTime": {
          "end_time": "2022-10-20T04:35:25.769716Z",
          "start_time": "2022-10-20T04:35:25.746833Z"
        },
        "id": "6c0cec68"
      },
      "outputs": [],
      "source": [
        "from sklearn.linear_model import LogisticRegression"
      ]
    },
    {
      "cell_type": "code",
      "execution_count": 103,
      "id": "a68d6533",
      "metadata": {
        "ExecuteTime": {
          "end_time": "2022-10-20T04:38:04.797671Z",
          "start_time": "2022-10-20T04:38:04.750374Z"
        },
        "id": "a68d6533"
      },
      "outputs": [],
      "source": [
        "#Terceira versão do modelo usando Regressão Logística\n",
        "modelo_v3 = LogisticRegression(C = 0.7, random_state= 42, max_iter = 1000)\n",
        "modelo_v3.fit(X_treino, y_treino.ravel())\n",
        "lr_predict_test = modelo_v3.predict(X_teste)"
      ]
    },
    {
      "cell_type": "markdown",
      "source": [
        "Relatório de Classificação\n",
        "\n",
        "Relatório que mostra a Precisão, Recall e F1-Score.\n",
        "\n",
        "Precisão - Precisão é a proporção de observações positivas previstas corretamente para o total de observações positivas previstas. A pergunta que esta métrica responde é de todos os passageiros rotulados como sobreviventes, quantos realmente sobreviveram? A alta precisão está relacionada à baixa taxa de falsos positivos. Temos uma precisão de 0,74, o que é muito bom.\n",
        "\n",
        "Precisão = TP/TP+FP\n",
        "\n",
        "Recall (Sensibilidade) - Recall é a proporção de observações positivas previstas corretamente para todas as observações. A pergunta que o recall responde é: De todos os passageiros que realmente sobreviveram, quantos marcamos? Um recall maior que 0,5 é boa.\n",
        "\n",
        "Recall = TP/TP+FN\n",
        "\n",
        "Pontuação F1 - Pontuação F1 é a média ponderada de Precisão e Recall. Portanto, essa pontuação leva em consideração falsos positivos e falsos negativos. Intuitivamente, não é tão fácil de entender quanta precisão, mas F1 geralmente é mais útil do que precisão, especialmente se você tiver uma distribuição de classe desigual. A precisão funciona melhor se falsos positivos e falsos negativos tiverem custos semelhantes. Se o custo de falsos positivos e falsos negativos for muito diferente, é melhor examinar Precisão e Recall.\n",
        "\n",
        "Pontuação F1 = 2 (Recall Precision) / (Recall + Precision)"
      ],
      "metadata": {
        "id": "x5TzSe4z8Pr9"
      },
      "id": "x5TzSe4z8Pr9"
    },
    {
      "cell_type": "code",
      "execution_count": 104,
      "id": "545b9ffe",
      "metadata": {
        "ExecuteTime": {
          "end_time": "2022-10-20T04:40:15.830197Z",
          "start_time": "2022-10-20T04:40:15.812958Z"
        },
        "id": "545b9ffe",
        "outputId": "773fdf6f-aac8-4d60-c353-2ed2a54fd2ba",
        "colab": {
          "base_uri": "https://localhost:8080/",
          "height": 366
        }
      },
      "outputs": [
        {
          "output_type": "stream",
          "name": "stdout",
          "text": [
            "Accuracy: 0.740260\n",
            "Classification Report\n",
            "              precision    recall  f1-score   support\n",
            "\n",
            "           1       0.64      0.59      0.61        80\n",
            "           0       0.79      0.82      0.81       151\n",
            "\n",
            "    accuracy                           0.74       231\n",
            "   macro avg       0.71      0.70      0.71       231\n",
            "weighted avg       0.74      0.74      0.74       231\n",
            "\n"
          ]
        },
        {
          "output_type": "execute_result",
          "data": {
            "text/plain": [
              "Predicted    0   1  All\n",
              "True                   \n",
              "0          124  27  151\n",
              "1           33  47   80\n",
              "All        157  74  231"
            ],
            "text/html": [
              "\n",
              "  <div id=\"df-d1eb8cfe-68dc-4f0c-944d-59a5ccb5904d\">\n",
              "    <div class=\"colab-df-container\">\n",
              "      <div>\n",
              "<style scoped>\n",
              "    .dataframe tbody tr th:only-of-type {\n",
              "        vertical-align: middle;\n",
              "    }\n",
              "\n",
              "    .dataframe tbody tr th {\n",
              "        vertical-align: top;\n",
              "    }\n",
              "\n",
              "    .dataframe thead th {\n",
              "        text-align: right;\n",
              "    }\n",
              "</style>\n",
              "<table border=\"1\" class=\"dataframe\">\n",
              "  <thead>\n",
              "    <tr style=\"text-align: right;\">\n",
              "      <th>Predicted</th>\n",
              "      <th>0</th>\n",
              "      <th>1</th>\n",
              "      <th>All</th>\n",
              "    </tr>\n",
              "    <tr>\n",
              "      <th>True</th>\n",
              "      <th></th>\n",
              "      <th></th>\n",
              "      <th></th>\n",
              "    </tr>\n",
              "  </thead>\n",
              "  <tbody>\n",
              "    <tr>\n",
              "      <th>0</th>\n",
              "      <td>124</td>\n",
              "      <td>27</td>\n",
              "      <td>151</td>\n",
              "    </tr>\n",
              "    <tr>\n",
              "      <th>1</th>\n",
              "      <td>33</td>\n",
              "      <td>47</td>\n",
              "      <td>80</td>\n",
              "    </tr>\n",
              "    <tr>\n",
              "      <th>All</th>\n",
              "      <td>157</td>\n",
              "      <td>74</td>\n",
              "      <td>231</td>\n",
              "    </tr>\n",
              "  </tbody>\n",
              "</table>\n",
              "</div>\n",
              "      <button class=\"colab-df-convert\" onclick=\"convertToInteractive('df-d1eb8cfe-68dc-4f0c-944d-59a5ccb5904d')\"\n",
              "              title=\"Convert this dataframe to an interactive table.\"\n",
              "              style=\"display:none;\">\n",
              "        \n",
              "  <svg xmlns=\"http://www.w3.org/2000/svg\" height=\"24px\"viewBox=\"0 0 24 24\"\n",
              "       width=\"24px\">\n",
              "    <path d=\"M0 0h24v24H0V0z\" fill=\"none\"/>\n",
              "    <path d=\"M18.56 5.44l.94 2.06.94-2.06 2.06-.94-2.06-.94-.94-2.06-.94 2.06-2.06.94zm-11 1L8.5 8.5l.94-2.06 2.06-.94-2.06-.94L8.5 2.5l-.94 2.06-2.06.94zm10 10l.94 2.06.94-2.06 2.06-.94-2.06-.94-.94-2.06-.94 2.06-2.06.94z\"/><path d=\"M17.41 7.96l-1.37-1.37c-.4-.4-.92-.59-1.43-.59-.52 0-1.04.2-1.43.59L10.3 9.45l-7.72 7.72c-.78.78-.78 2.05 0 2.83L4 21.41c.39.39.9.59 1.41.59.51 0 1.02-.2 1.41-.59l7.78-7.78 2.81-2.81c.8-.78.8-2.07 0-2.86zM5.41 20L4 18.59l7.72-7.72 1.47 1.35L5.41 20z\"/>\n",
              "  </svg>\n",
              "      </button>\n",
              "      \n",
              "  <style>\n",
              "    .colab-df-container {\n",
              "      display:flex;\n",
              "      flex-wrap:wrap;\n",
              "      gap: 12px;\n",
              "    }\n",
              "\n",
              "    .colab-df-convert {\n",
              "      background-color: #E8F0FE;\n",
              "      border: none;\n",
              "      border-radius: 50%;\n",
              "      cursor: pointer;\n",
              "      display: none;\n",
              "      fill: #1967D2;\n",
              "      height: 32px;\n",
              "      padding: 0 0 0 0;\n",
              "      width: 32px;\n",
              "    }\n",
              "\n",
              "    .colab-df-convert:hover {\n",
              "      background-color: #E2EBFA;\n",
              "      box-shadow: 0px 1px 2px rgba(60, 64, 67, 0.3), 0px 1px 3px 1px rgba(60, 64, 67, 0.15);\n",
              "      fill: #174EA6;\n",
              "    }\n",
              "\n",
              "    [theme=dark] .colab-df-convert {\n",
              "      background-color: #3B4455;\n",
              "      fill: #D2E3FC;\n",
              "    }\n",
              "\n",
              "    [theme=dark] .colab-df-convert:hover {\n",
              "      background-color: #434B5C;\n",
              "      box-shadow: 0px 1px 3px 1px rgba(0, 0, 0, 0.15);\n",
              "      filter: drop-shadow(0px 1px 2px rgba(0, 0, 0, 0.3));\n",
              "      fill: #FFFFFF;\n",
              "    }\n",
              "  </style>\n",
              "\n",
              "      <script>\n",
              "        const buttonEl =\n",
              "          document.querySelector('#df-d1eb8cfe-68dc-4f0c-944d-59a5ccb5904d button.colab-df-convert');\n",
              "        buttonEl.style.display =\n",
              "          google.colab.kernel.accessAllowed ? 'block' : 'none';\n",
              "\n",
              "        async function convertToInteractive(key) {\n",
              "          const element = document.querySelector('#df-d1eb8cfe-68dc-4f0c-944d-59a5ccb5904d');\n",
              "          const dataTable =\n",
              "            await google.colab.kernel.invokeFunction('convertToInteractive',\n",
              "                                                     [key], {});\n",
              "          if (!dataTable) return;\n",
              "\n",
              "          const docLinkHtml = 'Like what you see? Visit the ' +\n",
              "            '<a target=\"_blank\" href=https://colab.research.google.com/notebooks/data_table.ipynb>data table notebook</a>'\n",
              "            + ' to learn more about interactive tables.';\n",
              "          element.innerHTML = '';\n",
              "          dataTable['output_type'] = 'display_data';\n",
              "          await google.colab.output.renderOutput(dataTable, element);\n",
              "          const docLink = document.createElement('div');\n",
              "          docLink.innerHTML = docLinkHtml;\n",
              "          element.appendChild(docLink);\n",
              "        }\n",
              "      </script>\n",
              "    </div>\n",
              "  </div>\n",
              "  "
            ]
          },
          "metadata": {},
          "execution_count": 104
        }
      ],
      "source": [
        "#Verificando os dados de teste\n",
        "print(\"Accuracy: {0:4f}\".format(metrics.accuracy_score(y_teste, lr_predict_test)))\n",
        "\n",
        "print(\"Classification Report\")\n",
        "print(metrics.classification_report(y_teste, lr_predict_test, labels= [1, 0]))\n",
        "\n",
        "# Criando uma matriz de confusão\n",
        "from sklearn.metrics import confusion_matrix\n",
        "\n",
        "y_pred = modelo_v3.predict(X_teste)\n",
        "confusion_matrix(y_teste,y_pred)\n",
        "pd.crosstab(y_teste, y_pred, rownames=['True'], colnames=['Predicted'], margins=True)"
      ]
    },
    {
      "cell_type": "markdown",
      "id": "301eb13e",
      "metadata": {
        "id": "301eb13e"
      },
      "source": [
        "## Fazendo previsões com o modelo treinado"
      ]
    },
    {
      "cell_type": "code",
      "execution_count": 105,
      "id": "ca50bc4d",
      "metadata": {
        "ExecuteTime": {
          "end_time": "2022-10-20T04:41:27.653208Z",
          "start_time": "2022-10-20T04:41:27.637035Z"
        },
        "id": "ca50bc4d"
      },
      "outputs": [],
      "source": [
        "import pickle"
      ]
    },
    {
      "cell_type": "code",
      "execution_count": 106,
      "id": "8fe107b7",
      "metadata": {
        "ExecuteTime": {
          "end_time": "2022-10-20T04:42:14.293768Z",
          "start_time": "2022-10-20T04:42:14.277195Z"
        },
        "id": "8fe107b7"
      },
      "outputs": [],
      "source": [
        "#Salvando o modelo para usar mais tarde\n",
        "filename = 'modelo_treinado_v3.sav'\n",
        "pickle.dump(modelo_v3, open(filename, 'wb'))"
      ]
    },
    {
      "cell_type": "code",
      "execution_count": 111,
      "id": "abb67993",
      "metadata": {
        "ExecuteTime": {
          "end_time": "2022-10-20T04:42:21.891579Z",
          "start_time": "2022-10-20T04:42:21.867406Z"
        },
        "id": "abb67993",
        "outputId": "57f77f34-4740-4c57-c87d-714b1f3f081e",
        "colab": {
          "base_uri": "https://localhost:8080/",
          "height": 423
        }
      },
      "outputs": [
        {
          "output_type": "execute_result",
          "data": {
            "text/plain": [
              "     Pregnancies   Glucose  BloodPressure  SkinThickness   Insulin       BMI  \\\n",
              "668     0.639947 -0.778757  -1.191647e+00       0.442995  0.571411  0.224838   \n",
              "324    -0.547919 -0.318475   2.146522e-01       0.329171 -0.181541  0.472265   \n",
              "624    -0.547919 -0.449984  -6.953060e-01      -0.012301 -0.181541 -0.240908   \n",
              "690     1.233880 -0.482861   6.282695e-01      -0.012301 -0.181541 -1.143291   \n",
              "473     0.936914  0.470581   1.455504e+00      -0.012301 -0.181541 -0.371899   \n",
              "..           ...       ...            ...            ...       ...       ...   \n",
              "619    -1.141852 -0.088333   1.175571e-15      -0.012301 -0.181541 -0.008035   \n",
              "198     0.046014 -0.417106  -6.953060e-01       1.695058 -0.482722  0.341274   \n",
              "538    -1.141852  0.174685   6.282695e-01       0.898290  0.803089  0.559592   \n",
              "329     0.639947 -0.548616  -1.989652e-01       0.329171 -0.841823 -0.240908   \n",
              "302     0.342981 -1.469180   7.937164e-01       1.353586 -1.143004  0.486820   \n",
              "\n",
              "          DPF       Age  \n",
              "668 -0.126471  0.830381  \n",
              "324 -0.978145 -1.041549  \n",
              "624 -0.947944 -1.041549  \n",
              "690  1.160099  0.064591  \n",
              "473 -0.790898  1.425995  \n",
              "..        ...       ...  \n",
              "619 -0.999286 -0.786286  \n",
              "198  1.308085 -0.616111  \n",
              "538  1.003053 -0.871374  \n",
              "329 -1.056668  0.319855  \n",
              "302 -0.953984  0.149679  \n",
              "\n",
              "[231 rows x 8 columns]"
            ],
            "text/html": [
              "\n",
              "  <div id=\"df-87b0952f-255a-46da-a3b1-cc86ba02845f\">\n",
              "    <div class=\"colab-df-container\">\n",
              "      <div>\n",
              "<style scoped>\n",
              "    .dataframe tbody tr th:only-of-type {\n",
              "        vertical-align: middle;\n",
              "    }\n",
              "\n",
              "    .dataframe tbody tr th {\n",
              "        vertical-align: top;\n",
              "    }\n",
              "\n",
              "    .dataframe thead th {\n",
              "        text-align: right;\n",
              "    }\n",
              "</style>\n",
              "<table border=\"1\" class=\"dataframe\">\n",
              "  <thead>\n",
              "    <tr style=\"text-align: right;\">\n",
              "      <th></th>\n",
              "      <th>Pregnancies</th>\n",
              "      <th>Glucose</th>\n",
              "      <th>BloodPressure</th>\n",
              "      <th>SkinThickness</th>\n",
              "      <th>Insulin</th>\n",
              "      <th>BMI</th>\n",
              "      <th>DPF</th>\n",
              "      <th>Age</th>\n",
              "    </tr>\n",
              "  </thead>\n",
              "  <tbody>\n",
              "    <tr>\n",
              "      <th>668</th>\n",
              "      <td>0.639947</td>\n",
              "      <td>-0.778757</td>\n",
              "      <td>-1.191647e+00</td>\n",
              "      <td>0.442995</td>\n",
              "      <td>0.571411</td>\n",
              "      <td>0.224838</td>\n",
              "      <td>-0.126471</td>\n",
              "      <td>0.830381</td>\n",
              "    </tr>\n",
              "    <tr>\n",
              "      <th>324</th>\n",
              "      <td>-0.547919</td>\n",
              "      <td>-0.318475</td>\n",
              "      <td>2.146522e-01</td>\n",
              "      <td>0.329171</td>\n",
              "      <td>-0.181541</td>\n",
              "      <td>0.472265</td>\n",
              "      <td>-0.978145</td>\n",
              "      <td>-1.041549</td>\n",
              "    </tr>\n",
              "    <tr>\n",
              "      <th>624</th>\n",
              "      <td>-0.547919</td>\n",
              "      <td>-0.449984</td>\n",
              "      <td>-6.953060e-01</td>\n",
              "      <td>-0.012301</td>\n",
              "      <td>-0.181541</td>\n",
              "      <td>-0.240908</td>\n",
              "      <td>-0.947944</td>\n",
              "      <td>-1.041549</td>\n",
              "    </tr>\n",
              "    <tr>\n",
              "      <th>690</th>\n",
              "      <td>1.233880</td>\n",
              "      <td>-0.482861</td>\n",
              "      <td>6.282695e-01</td>\n",
              "      <td>-0.012301</td>\n",
              "      <td>-0.181541</td>\n",
              "      <td>-1.143291</td>\n",
              "      <td>1.160099</td>\n",
              "      <td>0.064591</td>\n",
              "    </tr>\n",
              "    <tr>\n",
              "      <th>473</th>\n",
              "      <td>0.936914</td>\n",
              "      <td>0.470581</td>\n",
              "      <td>1.455504e+00</td>\n",
              "      <td>-0.012301</td>\n",
              "      <td>-0.181541</td>\n",
              "      <td>-0.371899</td>\n",
              "      <td>-0.790898</td>\n",
              "      <td>1.425995</td>\n",
              "    </tr>\n",
              "    <tr>\n",
              "      <th>...</th>\n",
              "      <td>...</td>\n",
              "      <td>...</td>\n",
              "      <td>...</td>\n",
              "      <td>...</td>\n",
              "      <td>...</td>\n",
              "      <td>...</td>\n",
              "      <td>...</td>\n",
              "      <td>...</td>\n",
              "    </tr>\n",
              "    <tr>\n",
              "      <th>619</th>\n",
              "      <td>-1.141852</td>\n",
              "      <td>-0.088333</td>\n",
              "      <td>1.175571e-15</td>\n",
              "      <td>-0.012301</td>\n",
              "      <td>-0.181541</td>\n",
              "      <td>-0.008035</td>\n",
              "      <td>-0.999286</td>\n",
              "      <td>-0.786286</td>\n",
              "    </tr>\n",
              "    <tr>\n",
              "      <th>198</th>\n",
              "      <td>0.046014</td>\n",
              "      <td>-0.417106</td>\n",
              "      <td>-6.953060e-01</td>\n",
              "      <td>1.695058</td>\n",
              "      <td>-0.482722</td>\n",
              "      <td>0.341274</td>\n",
              "      <td>1.308085</td>\n",
              "      <td>-0.616111</td>\n",
              "    </tr>\n",
              "    <tr>\n",
              "      <th>538</th>\n",
              "      <td>-1.141852</td>\n",
              "      <td>0.174685</td>\n",
              "      <td>6.282695e-01</td>\n",
              "      <td>0.898290</td>\n",
              "      <td>0.803089</td>\n",
              "      <td>0.559592</td>\n",
              "      <td>1.003053</td>\n",
              "      <td>-0.871374</td>\n",
              "    </tr>\n",
              "    <tr>\n",
              "      <th>329</th>\n",
              "      <td>0.639947</td>\n",
              "      <td>-0.548616</td>\n",
              "      <td>-1.989652e-01</td>\n",
              "      <td>0.329171</td>\n",
              "      <td>-0.841823</td>\n",
              "      <td>-0.240908</td>\n",
              "      <td>-1.056668</td>\n",
              "      <td>0.319855</td>\n",
              "    </tr>\n",
              "    <tr>\n",
              "      <th>302</th>\n",
              "      <td>0.342981</td>\n",
              "      <td>-1.469180</td>\n",
              "      <td>7.937164e-01</td>\n",
              "      <td>1.353586</td>\n",
              "      <td>-1.143004</td>\n",
              "      <td>0.486820</td>\n",
              "      <td>-0.953984</td>\n",
              "      <td>0.149679</td>\n",
              "    </tr>\n",
              "  </tbody>\n",
              "</table>\n",
              "<p>231 rows × 8 columns</p>\n",
              "</div>\n",
              "      <button class=\"colab-df-convert\" onclick=\"convertToInteractive('df-87b0952f-255a-46da-a3b1-cc86ba02845f')\"\n",
              "              title=\"Convert this dataframe to an interactive table.\"\n",
              "              style=\"display:none;\">\n",
              "        \n",
              "  <svg xmlns=\"http://www.w3.org/2000/svg\" height=\"24px\"viewBox=\"0 0 24 24\"\n",
              "       width=\"24px\">\n",
              "    <path d=\"M0 0h24v24H0V0z\" fill=\"none\"/>\n",
              "    <path d=\"M18.56 5.44l.94 2.06.94-2.06 2.06-.94-2.06-.94-.94-2.06-.94 2.06-2.06.94zm-11 1L8.5 8.5l.94-2.06 2.06-.94-2.06-.94L8.5 2.5l-.94 2.06-2.06.94zm10 10l.94 2.06.94-2.06 2.06-.94-2.06-.94-.94-2.06-.94 2.06-2.06.94z\"/><path d=\"M17.41 7.96l-1.37-1.37c-.4-.4-.92-.59-1.43-.59-.52 0-1.04.2-1.43.59L10.3 9.45l-7.72 7.72c-.78.78-.78 2.05 0 2.83L4 21.41c.39.39.9.59 1.41.59.51 0 1.02-.2 1.41-.59l7.78-7.78 2.81-2.81c.8-.78.8-2.07 0-2.86zM5.41 20L4 18.59l7.72-7.72 1.47 1.35L5.41 20z\"/>\n",
              "  </svg>\n",
              "      </button>\n",
              "      \n",
              "  <style>\n",
              "    .colab-df-container {\n",
              "      display:flex;\n",
              "      flex-wrap:wrap;\n",
              "      gap: 12px;\n",
              "    }\n",
              "\n",
              "    .colab-df-convert {\n",
              "      background-color: #E8F0FE;\n",
              "      border: none;\n",
              "      border-radius: 50%;\n",
              "      cursor: pointer;\n",
              "      display: none;\n",
              "      fill: #1967D2;\n",
              "      height: 32px;\n",
              "      padding: 0 0 0 0;\n",
              "      width: 32px;\n",
              "    }\n",
              "\n",
              "    .colab-df-convert:hover {\n",
              "      background-color: #E2EBFA;\n",
              "      box-shadow: 0px 1px 2px rgba(60, 64, 67, 0.3), 0px 1px 3px 1px rgba(60, 64, 67, 0.15);\n",
              "      fill: #174EA6;\n",
              "    }\n",
              "\n",
              "    [theme=dark] .colab-df-convert {\n",
              "      background-color: #3B4455;\n",
              "      fill: #D2E3FC;\n",
              "    }\n",
              "\n",
              "    [theme=dark] .colab-df-convert:hover {\n",
              "      background-color: #434B5C;\n",
              "      box-shadow: 0px 1px 3px 1px rgba(0, 0, 0, 0.15);\n",
              "      filter: drop-shadow(0px 1px 2px rgba(0, 0, 0, 0.3));\n",
              "      fill: #FFFFFF;\n",
              "    }\n",
              "  </style>\n",
              "\n",
              "      <script>\n",
              "        const buttonEl =\n",
              "          document.querySelector('#df-87b0952f-255a-46da-a3b1-cc86ba02845f button.colab-df-convert');\n",
              "        buttonEl.style.display =\n",
              "          google.colab.kernel.accessAllowed ? 'block' : 'none';\n",
              "\n",
              "        async function convertToInteractive(key) {\n",
              "          const element = document.querySelector('#df-87b0952f-255a-46da-a3b1-cc86ba02845f');\n",
              "          const dataTable =\n",
              "            await google.colab.kernel.invokeFunction('convertToInteractive',\n",
              "                                                     [key], {});\n",
              "          if (!dataTable) return;\n",
              "\n",
              "          const docLinkHtml = 'Like what you see? Visit the ' +\n",
              "            '<a target=\"_blank\" href=https://colab.research.google.com/notebooks/data_table.ipynb>data table notebook</a>'\n",
              "            + ' to learn more about interactive tables.';\n",
              "          element.innerHTML = '';\n",
              "          dataTable['output_type'] = 'display_data';\n",
              "          await google.colab.output.renderOutput(dataTable, element);\n",
              "          const docLink = document.createElement('div');\n",
              "          docLink.innerHTML = docLinkHtml;\n",
              "          element.appendChild(docLink);\n",
              "        }\n",
              "      </script>\n",
              "    </div>\n",
              "  </div>\n",
              "  "
            ]
          },
          "metadata": {},
          "execution_count": 111
        }
      ],
      "source": [
        "X_teste"
      ]
    },
    {
      "cell_type": "code",
      "execution_count": 110,
      "id": "c0c2fed6",
      "metadata": {
        "ExecuteTime": {
          "end_time": "2022-10-20T04:44:27.869675Z",
          "start_time": "2022-10-20T04:44:27.853178Z"
        },
        "id": "c0c2fed6",
        "outputId": "fe83ee7b-2431-482e-b2bd-b12881092fa0",
        "colab": {
          "base_uri": "https://localhost:8080/"
        }
      },
      "outputs": [
        {
          "output_type": "stream",
          "name": "stdout",
          "text": [
            "[0]\n",
            "[1]\n"
          ]
        },
        {
          "output_type": "stream",
          "name": "stderr",
          "text": [
            "/usr/local/lib/python3.8/dist-packages/sklearn/base.py:450: UserWarning: X does not have valid feature names, but LogisticRegression was fitted with feature names\n",
            "  warnings.warn(\n",
            "/usr/local/lib/python3.8/dist-packages/sklearn/base.py:450: UserWarning: X does not have valid feature names, but LogisticRegression was fitted with feature names\n",
            "  warnings.warn(\n"
          ]
        }
      ],
      "source": [
        "# Carregando o modelo e fazendo previsão com novos conjuntos de dados \n",
        "# (X_teste, Y_teste devem ser novos conjuntos de dados preparados com o procedimento de limpeza e transformação adequados)\n",
        "loaded_model = pickle.load(open(filename, 'rb'))\n",
        "resultado1 = loaded_model.predict(X_teste.iloc[15].values.reshape(1,-1))\n",
        "resultado2 = loaded_model.predict(X_teste.iloc[18].values.reshape(1,-1))\n",
        "print(resultado1)\n",
        "print(resultado2)"
      ]
    },
    {
      "cell_type": "code",
      "execution_count": null,
      "id": "f4494531",
      "metadata": {
        "id": "f4494531"
      },
      "outputs": [],
      "source": []
    }
  ],
  "metadata": {
    "kernelspec": {
      "display_name": "Python 3 (ipykernel)",
      "language": "python",
      "name": "python3"
    },
    "language_info": {
      "codemirror_mode": {
        "name": "ipython",
        "version": 3
      },
      "file_extension": ".py",
      "mimetype": "text/x-python",
      "name": "python",
      "nbconvert_exporter": "python",
      "pygments_lexer": "ipython3",
      "version": "3.9.13"
    },
    "toc": {
      "base_numbering": 1,
      "nav_menu": {},
      "number_sections": true,
      "sideBar": true,
      "skip_h1_title": false,
      "title_cell": "Table of Contents",
      "title_sidebar": "Contents",
      "toc_cell": false,
      "toc_position": {},
      "toc_section_display": true,
      "toc_window_display": false
    },
    "varInspector": {
      "cols": {
        "lenName": 16,
        "lenType": 16,
        "lenVar": 40
      },
      "kernels_config": {
        "python": {
          "delete_cmd_postfix": "",
          "delete_cmd_prefix": "del ",
          "library": "var_list.py",
          "varRefreshCmd": "print(var_dic_list())"
        },
        "r": {
          "delete_cmd_postfix": ") ",
          "delete_cmd_prefix": "rm(",
          "library": "var_list.r",
          "varRefreshCmd": "cat(var_dic_list()) "
        }
      },
      "types_to_exclude": [
        "module",
        "function",
        "builtin_function_or_method",
        "instance",
        "_Feature"
      ],
      "window_display": false
    },
    "colab": {
      "provenance": [],
      "include_colab_link": true
    }
  },
  "nbformat": 4,
  "nbformat_minor": 5
}